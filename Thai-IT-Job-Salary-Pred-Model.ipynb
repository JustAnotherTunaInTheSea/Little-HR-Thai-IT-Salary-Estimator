{
  "cells": [
    {
      "cell_type": "markdown",
      "metadata": {
        "id": "view-in-github",
        "colab_type": "text"
      },
      "source": [
        "<a href=\"https://colab.research.google.com/github/JustAnotherTunaInTheSea/Thai-IT-Salary-Prediction-Master/blob/main/Thai-IT-Job-Salary-Pred-Model.ipynb\" target=\"_parent\"><img src=\"https://colab.research.google.com/assets/colab-badge.svg\" alt=\"Open In Colab\"/></a>"
      ]
    },
    {
      "cell_type": "markdown",
      "source": [
        "### Import Library\n",
        "\n",
        "Need to run once and reset runtime before process any further"
      ],
      "metadata": {
        "id": "y4MPeNtt1E-7"
      }
    },
    {
      "cell_type": "code",
      "source": [
        "ag_install = False #@param {type:'boolean'}\n",
        "\n",
        "if ag_install:\n",
        "  !pip install --upgrade mxnet\n",
        "  !pip install autogluon"
      ],
      "metadata": {
        "id": "n8F49EVm0_1a"
      },
      "execution_count": 86,
      "outputs": []
    },
    {
      "cell_type": "code",
      "execution_count": 87,
      "metadata": {
        "id": "QnkwkqN1MOmn"
      },
      "outputs": [],
      "source": [
        "import numpy as np\n",
        "import pandas as pd\n",
        "import seaborn as sns\n",
        "\n",
        "from matplotlib import pyplot as plt\n",
        "from sklearn.model_selection import train_test_split"
      ]
    },
    {
      "cell_type": "markdown",
      "metadata": {
        "id": "UPyIN7kRpl-_"
      },
      "source": [
        "# Data Preprocessing"
      ]
    },
    {
      "cell_type": "markdown",
      "metadata": {
        "id": "s1E2vlhLQyEf"
      },
      "source": [
        "## Import Data form CSV"
      ]
    },
    {
      "cell_type": "code",
      "source": [
        "df = pd.read_csv('thai-it-salary-form-response-2022.csv')\n",
        "\n",
        "df = df[['WorkPlace', 'EdLevel', 'YearsCodePro', 'YearsCode', 'Employment',\n",
        "         'WorkPosition', 'DevType', 'OrgSize', 'Salary']]"
      ],
      "metadata": {
        "id": "jLuasBfYhq-a"
      },
      "execution_count": 88,
      "outputs": []
    },
    {
      "cell_type": "code",
      "source": [
        "print(df.shape)\n",
        "df"
      ],
      "metadata": {
        "colab": {
          "base_uri": "https://localhost:8080/",
          "height": 590
        },
        "id": "4QXveXikmqjJ",
        "outputId": "5b706404-98ed-4587-ae2d-0ad5586d329e"
      },
      "execution_count": 89,
      "outputs": [
        {
          "output_type": "stream",
          "name": "stdout",
          "text": [
            "(416, 9)\n"
          ]
        },
        {
          "output_type": "execute_result",
          "data": {
            "text/plain": [
              "                           WorkPlace                             EdLevel  \\\n",
              "0            กรุงเทพมหานคร (Bangkok)  ปริญญาเอก (Doctoral Degree or PhD)   \n",
              "1            กรุงเทพมหานคร (Bangkok)  ปริญญาเอก (Doctoral Degree or PhD)   \n",
              "2            กรุงเทพมหานคร (Bangkok)          ปริญญาโท (Master's Degree)   \n",
              "3            กรุงเทพมหานคร (Bangkok)       ปริญญาตรี (Bachelor's Degree)   \n",
              "4            กรุงเทพมหานคร (Bangkok)       ปริญญาตรี (Bachelor's Degree)   \n",
              "..                               ...                                 ...   \n",
              "411          กรุงเทพมหานคร (Bangkok)       ปริญญาตรี (Bachelor's Degree)   \n",
              "412          กรุงเทพมหานคร (Bangkok)       ปริญญาตรี (Bachelor's Degree)   \n",
              "413  สมุุทรสงคราม (Samut  Songkhram)       ปริญญาตรี (Bachelor's Degree)   \n",
              "414          กรุงเทพมหานคร (Bangkok)       ปริญญาตรี (Bachelor's Degree)   \n",
              "415          กรุงเทพมหานคร (Bangkok)     มัธยมศึกษาตอนปลาย (High School)   \n",
              "\n",
              "     YearsCodePro  YearsCode Employment WorkPosition  \\\n",
              "0             4.0       15.0  full-time         Data   \n",
              "1             0.0        7.0  full-time         Data   \n",
              "2             6.0        2.0  full-time         Data   \n",
              "3             5.0        5.0  full-time      Web dev   \n",
              "4             2.0        4.0  full-time      Web dev   \n",
              "..            ...        ...        ...          ...   \n",
              "411           4.0        8.0  full-time      Web dev   \n",
              "412           2.0        2.0  full-time     Engineer   \n",
              "413          10.0       10.0  full-time   Mobile dev   \n",
              "414           4.0        4.0  full-time         Data   \n",
              "415          18.0       18.0  full-time     Security   \n",
              "\n",
              "                                                                         DevType  \\\n",
              "0                       Data scientist or machine learning specialist, Scientist   \n",
              "1    Data scientist or machine learning specialist, Academic researcher, Student   \n",
              "2                                                                  Data engineer   \n",
              "3                            Front-end developer, QA or test developer, Designer   \n",
              "4                                                           Full-stack developer   \n",
              "..                                                                           ...   \n",
              "411                                                         Full-stack developer   \n",
              "412                                                            Software Engineer   \n",
              "413                                                             Mobile developer   \n",
              "414                                Data scientist or machine learning specialist   \n",
              "415                                                           #Security Engineer   \n",
              "\n",
              "                                                            OrgSize   Salary  \n",
              "0                        10,000 คนขึ้นไป (10,000 or more employees)  1500000  \n",
              "1                   2 คนขึ้นไป แต่ไม่เกิน 20 คน (2 to 19 employees)   240000  \n",
              "2    1,000 คนขึ้นไป แต่ไม่เกิน 10,000 คน (1,000 to 9,999 employees)   756000  \n",
              "3                20 คนขึ้นไป แต่ไม่เกิน 100 คน (20 to 99 employees)   400000  \n",
              "4                   2 คนขึ้นไป แต่ไม่เกิน 20 คน (2 to 19 employees)   264000  \n",
              "..                                                              ...      ...  \n",
              "411              20 คนขึ้นไป แต่ไม่เกิน 100 คน (20 to 99 employees)    45000  \n",
              "412         100 คนขึ้นไป แต่ไม่เกิน 1,000 คน (100 to 999 employees)    32000  \n",
              "413  1,000 คนขึ้นไป แต่ไม่เกิน 10,000 คน (1,000 to 9,999 employees)   140000  \n",
              "414              20 คนขึ้นไป แต่ไม่เกิน 100 คน (20 to 99 employees)    65000  \n",
              "415         100 คนขึ้นไป แต่ไม่เกิน 1,000 คน (100 to 999 employees)   110000  \n",
              "\n",
              "[416 rows x 9 columns]"
            ],
            "text/html": [
              "\n",
              "  <div id=\"df-ebbf9790-ede7-4657-b394-52e10fe1fdb8\">\n",
              "    <div class=\"colab-df-container\">\n",
              "      <div>\n",
              "<style scoped>\n",
              "    .dataframe tbody tr th:only-of-type {\n",
              "        vertical-align: middle;\n",
              "    }\n",
              "\n",
              "    .dataframe tbody tr th {\n",
              "        vertical-align: top;\n",
              "    }\n",
              "\n",
              "    .dataframe thead th {\n",
              "        text-align: right;\n",
              "    }\n",
              "</style>\n",
              "<table border=\"1\" class=\"dataframe\">\n",
              "  <thead>\n",
              "    <tr style=\"text-align: right;\">\n",
              "      <th></th>\n",
              "      <th>WorkPlace</th>\n",
              "      <th>EdLevel</th>\n",
              "      <th>YearsCodePro</th>\n",
              "      <th>YearsCode</th>\n",
              "      <th>Employment</th>\n",
              "      <th>WorkPosition</th>\n",
              "      <th>DevType</th>\n",
              "      <th>OrgSize</th>\n",
              "      <th>Salary</th>\n",
              "    </tr>\n",
              "  </thead>\n",
              "  <tbody>\n",
              "    <tr>\n",
              "      <th>0</th>\n",
              "      <td>กรุงเทพมหานคร (Bangkok)</td>\n",
              "      <td>ปริญญาเอก (Doctoral Degree or PhD)</td>\n",
              "      <td>4.0</td>\n",
              "      <td>15.0</td>\n",
              "      <td>full-time</td>\n",
              "      <td>Data</td>\n",
              "      <td>Data scientist or machine learning specialist, Scientist</td>\n",
              "      <td>10,000 คนขึ้นไป (10,000 or more employees)</td>\n",
              "      <td>1500000</td>\n",
              "    </tr>\n",
              "    <tr>\n",
              "      <th>1</th>\n",
              "      <td>กรุงเทพมหานคร (Bangkok)</td>\n",
              "      <td>ปริญญาเอก (Doctoral Degree or PhD)</td>\n",
              "      <td>0.0</td>\n",
              "      <td>7.0</td>\n",
              "      <td>full-time</td>\n",
              "      <td>Data</td>\n",
              "      <td>Data scientist or machine learning specialist, Academic researcher, Student</td>\n",
              "      <td>2 คนขึ้นไป แต่ไม่เกิน 20 คน (2 to 19 employees)</td>\n",
              "      <td>240000</td>\n",
              "    </tr>\n",
              "    <tr>\n",
              "      <th>2</th>\n",
              "      <td>กรุงเทพมหานคร (Bangkok)</td>\n",
              "      <td>ปริญญาโท (Master's Degree)</td>\n",
              "      <td>6.0</td>\n",
              "      <td>2.0</td>\n",
              "      <td>full-time</td>\n",
              "      <td>Data</td>\n",
              "      <td>Data engineer</td>\n",
              "      <td>1,000 คนขึ้นไป แต่ไม่เกิน 10,000 คน (1,000 to 9,999 employees)</td>\n",
              "      <td>756000</td>\n",
              "    </tr>\n",
              "    <tr>\n",
              "      <th>3</th>\n",
              "      <td>กรุงเทพมหานคร (Bangkok)</td>\n",
              "      <td>ปริญญาตรี (Bachelor's Degree)</td>\n",
              "      <td>5.0</td>\n",
              "      <td>5.0</td>\n",
              "      <td>full-time</td>\n",
              "      <td>Web dev</td>\n",
              "      <td>Front-end developer, QA or test developer, Designer</td>\n",
              "      <td>20 คนขึ้นไป แต่ไม่เกิน 100 คน (20 to 99 employees)</td>\n",
              "      <td>400000</td>\n",
              "    </tr>\n",
              "    <tr>\n",
              "      <th>4</th>\n",
              "      <td>กรุงเทพมหานคร (Bangkok)</td>\n",
              "      <td>ปริญญาตรี (Bachelor's Degree)</td>\n",
              "      <td>2.0</td>\n",
              "      <td>4.0</td>\n",
              "      <td>full-time</td>\n",
              "      <td>Web dev</td>\n",
              "      <td>Full-stack developer</td>\n",
              "      <td>2 คนขึ้นไป แต่ไม่เกิน 20 คน (2 to 19 employees)</td>\n",
              "      <td>264000</td>\n",
              "    </tr>\n",
              "    <tr>\n",
              "      <th>...</th>\n",
              "      <td>...</td>\n",
              "      <td>...</td>\n",
              "      <td>...</td>\n",
              "      <td>...</td>\n",
              "      <td>...</td>\n",
              "      <td>...</td>\n",
              "      <td>...</td>\n",
              "      <td>...</td>\n",
              "      <td>...</td>\n",
              "    </tr>\n",
              "    <tr>\n",
              "      <th>411</th>\n",
              "      <td>กรุงเทพมหานคร (Bangkok)</td>\n",
              "      <td>ปริญญาตรี (Bachelor's Degree)</td>\n",
              "      <td>4.0</td>\n",
              "      <td>8.0</td>\n",
              "      <td>full-time</td>\n",
              "      <td>Web dev</td>\n",
              "      <td>Full-stack developer</td>\n",
              "      <td>20 คนขึ้นไป แต่ไม่เกิน 100 คน (20 to 99 employees)</td>\n",
              "      <td>45000</td>\n",
              "    </tr>\n",
              "    <tr>\n",
              "      <th>412</th>\n",
              "      <td>กรุงเทพมหานคร (Bangkok)</td>\n",
              "      <td>ปริญญาตรี (Bachelor's Degree)</td>\n",
              "      <td>2.0</td>\n",
              "      <td>2.0</td>\n",
              "      <td>full-time</td>\n",
              "      <td>Engineer</td>\n",
              "      <td>Software Engineer</td>\n",
              "      <td>100 คนขึ้นไป แต่ไม่เกิน 1,000 คน (100 to 999 employees)</td>\n",
              "      <td>32000</td>\n",
              "    </tr>\n",
              "    <tr>\n",
              "      <th>413</th>\n",
              "      <td>สมุุทรสงคราม (Samut  Songkhram)</td>\n",
              "      <td>ปริญญาตรี (Bachelor's Degree)</td>\n",
              "      <td>10.0</td>\n",
              "      <td>10.0</td>\n",
              "      <td>full-time</td>\n",
              "      <td>Mobile dev</td>\n",
              "      <td>Mobile developer</td>\n",
              "      <td>1,000 คนขึ้นไป แต่ไม่เกิน 10,000 คน (1,000 to 9,999 employees)</td>\n",
              "      <td>140000</td>\n",
              "    </tr>\n",
              "    <tr>\n",
              "      <th>414</th>\n",
              "      <td>กรุงเทพมหานคร (Bangkok)</td>\n",
              "      <td>ปริญญาตรี (Bachelor's Degree)</td>\n",
              "      <td>4.0</td>\n",
              "      <td>4.0</td>\n",
              "      <td>full-time</td>\n",
              "      <td>Data</td>\n",
              "      <td>Data scientist or machine learning specialist</td>\n",
              "      <td>20 คนขึ้นไป แต่ไม่เกิน 100 คน (20 to 99 employees)</td>\n",
              "      <td>65000</td>\n",
              "    </tr>\n",
              "    <tr>\n",
              "      <th>415</th>\n",
              "      <td>กรุงเทพมหานคร (Bangkok)</td>\n",
              "      <td>มัธยมศึกษาตอนปลาย (High School)</td>\n",
              "      <td>18.0</td>\n",
              "      <td>18.0</td>\n",
              "      <td>full-time</td>\n",
              "      <td>Security</td>\n",
              "      <td>#Security Engineer</td>\n",
              "      <td>100 คนขึ้นไป แต่ไม่เกิน 1,000 คน (100 to 999 employees)</td>\n",
              "      <td>110000</td>\n",
              "    </tr>\n",
              "  </tbody>\n",
              "</table>\n",
              "<p>416 rows × 9 columns</p>\n",
              "</div>\n",
              "      <button class=\"colab-df-convert\" onclick=\"convertToInteractive('df-ebbf9790-ede7-4657-b394-52e10fe1fdb8')\"\n",
              "              title=\"Convert this dataframe to an interactive table.\"\n",
              "              style=\"display:none;\">\n",
              "        \n",
              "  <svg xmlns=\"http://www.w3.org/2000/svg\" height=\"24px\"viewBox=\"0 0 24 24\"\n",
              "       width=\"24px\">\n",
              "    <path d=\"M0 0h24v24H0V0z\" fill=\"none\"/>\n",
              "    <path d=\"M18.56 5.44l.94 2.06.94-2.06 2.06-.94-2.06-.94-.94-2.06-.94 2.06-2.06.94zm-11 1L8.5 8.5l.94-2.06 2.06-.94-2.06-.94L8.5 2.5l-.94 2.06-2.06.94zm10 10l.94 2.06.94-2.06 2.06-.94-2.06-.94-.94-2.06-.94 2.06-2.06.94z\"/><path d=\"M17.41 7.96l-1.37-1.37c-.4-.4-.92-.59-1.43-.59-.52 0-1.04.2-1.43.59L10.3 9.45l-7.72 7.72c-.78.78-.78 2.05 0 2.83L4 21.41c.39.39.9.59 1.41.59.51 0 1.02-.2 1.41-.59l7.78-7.78 2.81-2.81c.8-.78.8-2.07 0-2.86zM5.41 20L4 18.59l7.72-7.72 1.47 1.35L5.41 20z\"/>\n",
              "  </svg>\n",
              "      </button>\n",
              "      \n",
              "  <style>\n",
              "    .colab-df-container {\n",
              "      display:flex;\n",
              "      flex-wrap:wrap;\n",
              "      gap: 12px;\n",
              "    }\n",
              "\n",
              "    .colab-df-convert {\n",
              "      background-color: #E8F0FE;\n",
              "      border: none;\n",
              "      border-radius: 50%;\n",
              "      cursor: pointer;\n",
              "      display: none;\n",
              "      fill: #1967D2;\n",
              "      height: 32px;\n",
              "      padding: 0 0 0 0;\n",
              "      width: 32px;\n",
              "    }\n",
              "\n",
              "    .colab-df-convert:hover {\n",
              "      background-color: #E2EBFA;\n",
              "      box-shadow: 0px 1px 2px rgba(60, 64, 67, 0.3), 0px 1px 3px 1px rgba(60, 64, 67, 0.15);\n",
              "      fill: #174EA6;\n",
              "    }\n",
              "\n",
              "    [theme=dark] .colab-df-convert {\n",
              "      background-color: #3B4455;\n",
              "      fill: #D2E3FC;\n",
              "    }\n",
              "\n",
              "    [theme=dark] .colab-df-convert:hover {\n",
              "      background-color: #434B5C;\n",
              "      box-shadow: 0px 1px 3px 1px rgba(0, 0, 0, 0.15);\n",
              "      filter: drop-shadow(0px 1px 2px rgba(0, 0, 0, 0.3));\n",
              "      fill: #FFFFFF;\n",
              "    }\n",
              "  </style>\n",
              "\n",
              "      <script>\n",
              "        const buttonEl =\n",
              "          document.querySelector('#df-ebbf9790-ede7-4657-b394-52e10fe1fdb8 button.colab-df-convert');\n",
              "        buttonEl.style.display =\n",
              "          google.colab.kernel.accessAllowed ? 'block' : 'none';\n",
              "\n",
              "        async function convertToInteractive(key) {\n",
              "          const element = document.querySelector('#df-ebbf9790-ede7-4657-b394-52e10fe1fdb8');\n",
              "          const dataTable =\n",
              "            await google.colab.kernel.invokeFunction('convertToInteractive',\n",
              "                                                     [key], {});\n",
              "          if (!dataTable) return;\n",
              "\n",
              "          const docLinkHtml = 'Like what you see? Visit the ' +\n",
              "            '<a target=\"_blank\" href=https://colab.research.google.com/notebooks/data_table.ipynb>data table notebook</a>'\n",
              "            + ' to learn more about interactive tables.';\n",
              "          element.innerHTML = '';\n",
              "          dataTable['output_type'] = 'display_data';\n",
              "          await google.colab.output.renderOutput(dataTable, element);\n",
              "          const docLink = document.createElement('div');\n",
              "          docLink.innerHTML = docLinkHtml;\n",
              "          element.appendChild(docLink);\n",
              "        }\n",
              "      </script>\n",
              "    </div>\n",
              "  </div>\n",
              "  "
            ]
          },
          "metadata": {},
          "execution_count": 89
        }
      ]
    },
    {
      "cell_type": "markdown",
      "metadata": {
        "id": "ZzH3Gc9Ep4JL"
      },
      "source": [
        "## Education"
      ]
    },
    {
      "cell_type": "code",
      "source": [
        "df['EdLevel'].value_counts()"
      ],
      "metadata": {
        "colab": {
          "base_uri": "https://localhost:8080/"
        },
        "id": "UHno7OhTgdRF",
        "outputId": "7e863ba2-c018-4f1c-e738-6477cd6d865a"
      },
      "execution_count": 90,
      "outputs": [
        {
          "output_type": "execute_result",
          "data": {
            "text/plain": [
              "ปริญญาตรี (Bachelor's Degree)                      337\n",
              "ปริญญาโท (Master's Degree)                          43\n",
              "มัธยมศึกษาตอนปลาย (High School)                     15\n",
              "ปวส. (High Vocational Certificate)                  11\n",
              "ปริญญาเอก (Doctoral Degree or PhD)                   7\n",
              "มัธยมศึกษาตอนต้น (Middle School)                     1\n",
              "ปวช. (Vocational Certificate)                        1\n",
              "ต่ำกว่ามัธยมศึกษา (Lower than Secondary School)      1\n",
              "Name: EdLevel, dtype: int64"
            ]
          },
          "metadata": {},
          "execution_count": 90
        }
      ]
    },
    {
      "cell_type": "code",
      "execution_count": 91,
      "metadata": {
        "colab": {
          "base_uri": "https://localhost:8080/"
        },
        "id": "SXKj6YdtOVe5",
        "outputId": "4cdc88b9-39c9-456c-b18e-50d8907c7870"
      },
      "outputs": [
        {
          "output_type": "execute_result",
          "data": {
            "text/plain": [
              "1    349\n",
              "2     50\n",
              "0     17\n",
              "Name: EdLevel, dtype: int64"
            ]
          },
          "metadata": {},
          "execution_count": 91
        }
      ],
      "source": [
        "def clean_education(x):\n",
        "  if 'Bachelor' in x or 'Certificate' in x:\n",
        "    return 1\n",
        "  if 'Master' in x:\n",
        "    return 2\n",
        "  if 'Doctoral' in x:\n",
        "    return 2\n",
        "  return 0\n",
        "\n",
        "df['EdLevel'] = df['EdLevel'].apply(clean_education)\n",
        "df['EdLevel'].value_counts()"
      ]
    },
    {
      "cell_type": "markdown",
      "metadata": {
        "id": "RoNzl410p8iY"
      },
      "source": [
        "## Employment"
      ]
    },
    {
      "cell_type": "code",
      "source": [
        "df['Employment'].value_counts()"
      ],
      "metadata": {
        "colab": {
          "base_uri": "https://localhost:8080/"
        },
        "id": "fW7pLLWcgXNd",
        "outputId": "72573687-73f4-4fe2-9f1e-6403c5192ff1"
      },
      "execution_count": 92,
      "outputs": [
        {
          "output_type": "execute_result",
          "data": {
            "text/plain": [
              "full-time    389\n",
              "part-time     14\n",
              "freelance     13\n",
              "Name: Employment, dtype: int64"
            ]
          },
          "metadata": {},
          "execution_count": 92
        }
      ]
    },
    {
      "cell_type": "code",
      "source": [
        "def clean_employment(x):\n",
        "  if 'full-time' in x or 'freelance' in x:\n",
        "    return 1\n",
        "  if 'part-time' in x:\n",
        "    return 0\n",
        "  return 1\n",
        "\n",
        "df['Employment'] = df['Employment'].apply(clean_employment)\n",
        "df['Employment'].value_counts()"
      ],
      "metadata": {
        "colab": {
          "base_uri": "https://localhost:8080/"
        },
        "id": "zmh2ZGvz1kCa",
        "outputId": "c76c0d69-340f-410d-c96a-bb6234ff9c6e"
      },
      "execution_count": 93,
      "outputs": [
        {
          "output_type": "execute_result",
          "data": {
            "text/plain": [
              "1    402\n",
              "0     14\n",
              "Name: Employment, dtype: int64"
            ]
          },
          "metadata": {},
          "execution_count": 93
        }
      ]
    },
    {
      "cell_type": "markdown",
      "metadata": {
        "id": "W1CyfbcCp_N9"
      },
      "source": [
        "## OrgSize"
      ]
    },
    {
      "cell_type": "code",
      "execution_count": 94,
      "metadata": {
        "colab": {
          "base_uri": "https://localhost:8080/"
        },
        "id": "-s5xOpa62kKh",
        "outputId": "b4e32843-cd71-47da-8689-4a80b71ad132"
      },
      "outputs": [
        {
          "output_type": "execute_result",
          "data": {
            "text/plain": [
              "100 คนขึ้นไป แต่ไม่เกิน 1,000 คน (100 to 999 employees)           128\n",
              "20 คนขึ้นไป แต่ไม่เกิน 100 คน (20 to 99 employees)                 89\n",
              "2 คนขึ้นไป แต่ไม่เกิน 20 คน (2 to 19 employees)                    83\n",
              "1,000 คนขึ้นไป แต่ไม่เกิน 10,000 คน (1,000 to 9,999 employees)     64\n",
              "10,000 คนขึ้นไป (10,000 or more employees)                         40\n",
              "มีคนเดียว ทำทุกตำแหน่ง (Freelancer/Just me)                        12\n",
              "Name: OrgSize, dtype: int64"
            ]
          },
          "metadata": {},
          "execution_count": 94
        }
      ],
      "source": [
        "df['OrgSize'].value_counts()"
      ]
    },
    {
      "cell_type": "code",
      "execution_count": 95,
      "metadata": {
        "colab": {
          "base_uri": "https://localhost:8080/"
        },
        "id": "GPdA-YiazqRL",
        "outputId": "e649873d-ae3b-4988-c8f9-600ad225c349"
      },
      "outputs": [
        {
          "output_type": "execute_result",
          "data": {
            "text/plain": [
              "2    128\n",
              "4    123\n",
              "1     89\n",
              "3     64\n",
              "0     12\n",
              "Name: OrgSize, dtype: int64"
            ]
          },
          "metadata": {},
          "execution_count": 95
        }
      ],
      "source": [
        "def clean_orgsize(x):\n",
        "  if 'Just me' in x or '10 to 19' in x or '2 to 9' in x:\n",
        "    return 0\n",
        "  if '20 to 99' in x:\n",
        "    return 1\n",
        "  if '100 to 999' in x:\n",
        "    return 2\n",
        "  if '1,000 to 9,999' in x:\n",
        "    return 3\n",
        "  if '10,000 or more':\n",
        "    return 4\n",
        "  return x\n",
        "\n",
        "df['OrgSize'] = df['OrgSize'].apply(clean_orgsize)\n",
        "df['OrgSize'].value_counts()"
      ]
    },
    {
      "cell_type": "markdown",
      "metadata": {
        "id": "GLC37Z1EqKqv"
      },
      "source": [
        "## Experience"
      ]
    },
    {
      "cell_type": "code",
      "source": [
        "print(len(df[df['YearsCodePro'] > df['YearsCode']].index))"
      ],
      "metadata": {
        "colab": {
          "base_uri": "https://localhost:8080/"
        },
        "id": "95-blwZkg7uk",
        "outputId": "6f20a140-5d53-447a-c97b-aa55b7163549"
      },
      "execution_count": 96,
      "outputs": [
        {
          "output_type": "stream",
          "name": "stdout",
          "text": [
            "64\n"
          ]
        }
      ]
    },
    {
      "cell_type": "code",
      "source": [
        "df_t = df\n",
        "\n",
        "for i in df_t[df_t['YearsCodePro'] > df_t['YearsCode']].index:\n",
        "  df.at[i, 'YearsCode'] += df.at[i, 'YearsCodePro']"
      ],
      "metadata": {
        "id": "9WyUxzPEcPTJ"
      },
      "execution_count": 97,
      "outputs": []
    },
    {
      "cell_type": "code",
      "source": [
        "print(len(df[df['YearsCodePro'] > df['YearsCode']].index))"
      ],
      "metadata": {
        "colab": {
          "base_uri": "https://localhost:8080/"
        },
        "id": "sv6h1jQp4IoU",
        "outputId": "957bca67-ab53-45c5-aea2-ccfa39f8ffb7"
      },
      "execution_count": 98,
      "outputs": [
        {
          "output_type": "stream",
          "name": "stdout",
          "text": [
            "0\n"
          ]
        }
      ]
    },
    {
      "cell_type": "markdown",
      "metadata": {
        "id": "uJA2zPCPqM8q"
      },
      "source": [
        "## Salary"
      ]
    },
    {
      "cell_type": "markdown",
      "source": [
        "### Before clearing noise"
      ],
      "metadata": {
        "id": "h8iGyyZivMHt"
      }
    },
    {
      "cell_type": "code",
      "source": [
        "a4_dims = (10, 7)\n",
        "\n",
        "fig, ax = plt.subplots(figsize=a4_dims)\n",
        "sns.boxplot(ax=ax,x='YearsCodePro',y='Salary', data=df)"
      ],
      "metadata": {
        "colab": {
          "base_uri": "https://localhost:8080/",
          "height": 471
        },
        "id": "KeIbfcSZumib",
        "outputId": "aeeeaa23-dd58-4377-8208-130f6e0e01d8"
      },
      "execution_count": 99,
      "outputs": [
        {
          "output_type": "execute_result",
          "data": {
            "text/plain": [
              "<matplotlib.axes._subplots.AxesSubplot at 0x7f9ba8aeb4d0>"
            ]
          },
          "metadata": {},
          "execution_count": 99
        },
        {
          "output_type": "display_data",
          "data": {
            "text/plain": [
              "<Figure size 720x504 with 1 Axes>"
            ],
            "image/png": "[encoded data removed]"
          },
          "metadata": {
            "needs_background": "light"
          }
        }
      ]
    },
    {
      "cell_type": "code",
      "execution_count": 100,
      "metadata": {
        "id": "gx-LoAZUNwsp"
      },
      "outputs": [],
      "source": [
        "df = df[df['Salary'] <= 3e6]\n",
        "df = df[df['Salary'] >= 1e5]\n",
        "df = df[df['Salary'].notnull()]\n",
        "df = df.dropna()\n",
        "df['Salary'] /= 12\n",
        "df['Salary'] /= 1e4"
      ]
    },
    {
      "cell_type": "code",
      "source": [
        "df = df.rename({'Salary':'_Salary'},axis=1)"
      ],
      "metadata": {
        "id": "6mDLfzHQNqUh"
      },
      "execution_count": 101,
      "outputs": []
    },
    {
      "cell_type": "markdown",
      "source": [
        "### After clear out some noise\n",
        "This chart now looks more promising"
      ],
      "metadata": {
        "id": "jXoQ8k-Ou_SJ"
      }
    },
    {
      "cell_type": "code",
      "source": [
        "a4_dims = (10, 7)\n",
        "\n",
        "fig, ax = plt.subplots(figsize=a4_dims)\n",
        "sns.boxplot(ax=ax,x='YearsCodePro',y='_Salary', data=df)"
      ],
      "metadata": {
        "colab": {
          "base_uri": "https://localhost:8080/",
          "height": 460
        },
        "id": "PgR9xXoktOAR",
        "outputId": "984794c8-e8de-4b0c-cb42-cc066522b85c"
      },
      "execution_count": 102,
      "outputs": [
        {
          "output_type": "execute_result",
          "data": {
            "text/plain": [
              "<matplotlib.axes._subplots.AxesSubplot at 0x7f9b1214a150>"
            ]
          },
          "metadata": {},
          "execution_count": 102
        },
        {
          "output_type": "display_data",
          "data": {
            "text/plain": [
              "<Figure size 720x504 with 1 Axes>"
            ],
            "image/png": "[encoded data removed]"
          },
          "metadata": {
            "needs_background": "light"
          }
        }
      ]
    },
    {
      "cell_type": "code",
      "source": [
        "plt.scatter(df.YearsCodePro, df._Salary)\n",
        "plt.show()"
      ],
      "metadata": {
        "colab": {
          "base_uri": "https://localhost:8080/",
          "height": 265
        },
        "id": "f1QQFdizN6kj",
        "outputId": "7980265f-f582-41dd-a377-796fc43797d8"
      },
      "execution_count": 103,
      "outputs": [
        {
          "output_type": "display_data",
          "data": {
            "text/plain": [
              "<Figure size 432x288 with 1 Axes>"
            ],
            "image/png": "[encoded data removed]"
          },
          "metadata": {
            "needs_background": "light"
          }
        }
      ]
    },
    {
      "cell_type": "code",
      "execution_count": 104,
      "metadata": {
        "id": "MonqkB-i9iyF",
        "colab": {
          "base_uri": "https://localhost:8080/",
          "height": 265
        },
        "outputId": "678c5f25-43a1-4549-903b-3f82c797ba81"
      },
      "outputs": [
        {
          "output_type": "display_data",
          "data": {
            "text/plain": [
              "<Figure size 432x288 with 1 Axes>"
            ],
            "image/png": "[encoded data removed]"
          },
          "metadata": {
            "needs_background": "light"
          }
        }
      ],
      "source": [
        "plt.hist(df['_Salary'])\n",
        "plt.show()"
      ]
    },
    {
      "cell_type": "markdown",
      "metadata": {
        "id": "6yxFz0Qev5O7"
      },
      "source": [
        "## DevType"
      ]
    },
    {
      "cell_type": "code",
      "source": [
        "df['WorkPosition'] = df['WorkPosition'].astype('category')"
      ],
      "metadata": {
        "id": "AGI5jlncacqE"
      },
      "execution_count": 105,
      "outputs": []
    },
    {
      "cell_type": "code",
      "source": [
        "df['DevType'].value_counts()"
      ],
      "metadata": {
        "colab": {
          "base_uri": "https://localhost:8080/"
        },
        "id": "bZMHCrArovWq",
        "outputId": "9b32f246-0aec-4af9-c499-e435b08da78d"
      },
      "execution_count": 106,
      "outputs": [
        {
          "output_type": "execute_result",
          "data": {
            "text/plain": [
              "Full-stack developer                                                     35\n",
              "Back-end developer, Front-end developer, Full-stack developer            19\n",
              "Back-end developer                                                       18\n",
              "Front-end developer                                                      16\n",
              "Data scientist or machine learning specialist                            13\n",
              "                                                                         ..\n",
              "Front-end developer, Full-stack developer, #Web Developer                 1\n",
              "Data or business analyst, Data engineer                                   1\n",
              "Full-stack developer, DevOps specialist, #Cloud Engineer, #Consultant     1\n",
              "Scientist, Academic researcher, Educator                                  1\n",
              "#Security Engineer                                                        1\n",
              "Name: DevType, Length: 189, dtype: int64"
            ]
          },
          "metadata": {},
          "execution_count": 106
        }
      ]
    },
    {
      "cell_type": "code",
      "source": [
        "df['WorkPosition'].value_counts()"
      ],
      "metadata": {
        "colab": {
          "base_uri": "https://localhost:8080/"
        },
        "id": "PelT4FAdTF3h",
        "outputId": "3ce93ac6-79cc-4dd7-8b0b-d729329d1c6e"
      },
      "execution_count": 107,
      "outputs": [
        {
          "output_type": "execute_result",
          "data": {
            "text/plain": [
              "Web dev        193\n",
              "Data            51\n",
              "Mobile dev      34\n",
              "Bussiness       14\n",
              "Engineer        14\n",
              "Admin           11\n",
              "Desktop dev     10\n",
              "Game dev         8\n",
              "Manager          8\n",
              "Service          6\n",
              "Embled dev       5\n",
              "Executive        4\n",
              "Network          4\n",
              "Security         4\n",
              "Academic         2\n",
              "Art              1\n",
              "Name: WorkPosition, dtype: int64"
            ]
          },
          "metadata": {},
          "execution_count": 107
        }
      ]
    },
    {
      "cell_type": "markdown",
      "metadata": {
        "id": "GDoXQgAjvg7N"
      },
      "source": [
        "## States"
      ]
    },
    {
      "cell_type": "code",
      "execution_count": 108,
      "metadata": {
        "id": "uV9X9wWGSHXL"
      },
      "outputs": [],
      "source": [
        "def get_in(x):\n",
        "  jobs = []\n",
        "  substring = ''\n",
        "  iscollecting = False\n",
        "  for s in x:\n",
        "    if iscollecting:\n",
        "      if s == ')':\n",
        "        jobs.append(substring)\n",
        "        substring = ''\n",
        "        iscollecting = False\n",
        "      else: substring += s\n",
        "\n",
        "    if s == '(':\n",
        "      iscollecting = True\n",
        "  return jobs[0]"
      ]
    },
    {
      "cell_type": "code",
      "execution_count": 109,
      "metadata": {
        "colab": {
          "base_uri": "https://localhost:8080/"
        },
        "id": "02mJBx3lOxL0",
        "outputId": "369d65ba-b9d5-498b-be76-2500d13e4bc1"
      },
      "outputs": [
        {
          "output_type": "execute_result",
          "data": {
            "text/plain": [
              "array(['กรุงเทพมหานคร (Bangkok)', 'ประจวบคีรีขันธ์ (Prachuap Kiri Kan)',\n",
              "       'นนทบุรี (Nonthaburi)', 'นครราชสีมา (Nakhon Ratchasima)',\n",
              "       'น่าน (Nan)', 'เชียงใหม่ (Chiang Mai)',\n",
              "       'สมุทรปราการ (Samut Prakan)', 'ปทุมธานี (Pathum Thani)',\n",
              "       'สงขลา (Songkla)', 'ขอนแก่น (Khon Kaen)', 'ราชบุรี (Ratchaburi)',\n",
              "       'นครปฐม (Nakhon Pathom)', 'ชลบุรี (Chonburi)', 'ปัตตานี (Pattani)',\n",
              "       'มหาสารคาม (Maha Sarakham)', 'จันทบุรี (Chanthaburi)',\n",
              "       'ร้อยเอ็ด (Roi Et)', 'อุบลราชธานี (Ubon Ratchathani)',\n",
              "       'พระนครศรีอยุธยา (Phra Nahhon Si Ayutthaya)', 'สตูล (Satun)',\n",
              "       'ปราจีนบุรี (Prachin Buri)', 'อำนาจเจริญ (Amnat Charoen)',\n",
              "       'ระนอง (Ranong)', 'ภูเก็ต (Phuket)',\n",
              "       'สมุุทรสงคราม (Samut  Songkhram)'], dtype=object)"
            ]
          },
          "metadata": {},
          "execution_count": 109
        }
      ],
      "source": [
        "df['WorkPlace'].unique()"
      ]
    },
    {
      "cell_type": "code",
      "execution_count": 110,
      "metadata": {
        "id": "9IZMcTvXvk-E"
      },
      "outputs": [],
      "source": [
        "def clean_state(x):\n",
        "  xstr = get_in(x)\n",
        "  if xstr == 'Bangkok' or xstr == 'Nonthaburi' or xstr == 'Samut Prakan':\n",
        "    return 1\n",
        "  else:\n",
        "    return 0\n",
        "\n",
        "df['WorkPlace'] = df['WorkPlace'].apply(clean_state)"
      ]
    },
    {
      "cell_type": "code",
      "execution_count": 111,
      "metadata": {
        "colab": {
          "base_uri": "https://localhost:8080/"
        },
        "id": "ljMpfZj1wtj8",
        "outputId": "4b028cf9-c7d6-4e6e-e1dd-b3b690fb0793"
      },
      "outputs": [
        {
          "output_type": "execute_result",
          "data": {
            "text/plain": [
              "1    318\n",
              "0     51\n",
              "Name: WorkPlace, dtype: int64"
            ]
          },
          "metadata": {},
          "execution_count": 111
        }
      ],
      "source": [
        "df['WorkPlace'].value_counts()"
      ]
    },
    {
      "cell_type": "markdown",
      "metadata": {
        "id": "3bzWXVC3qsCh"
      },
      "source": [
        "## Final\n"
      ]
    },
    {
      "cell_type": "code",
      "source": [
        "df = df.reset_index()\n",
        "df = df.drop(columns=['index'])"
      ],
      "metadata": {
        "id": "oz0MNhAyExxg"
      },
      "execution_count": 112,
      "outputs": []
    },
    {
      "cell_type": "code",
      "source": [
        "obj_feat = list(df.loc[:, df.dtypes == 'int64'].columns.values)\n",
        "for feature in obj_feat:\n",
        "  df[feature] = pd.Series(df[feature], dtype='category')"
      ],
      "metadata": {
        "id": "VKLqFIst2XOl"
      },
      "execution_count": 113,
      "outputs": []
    },
    {
      "cell_type": "code",
      "source": [
        "that_one_kid_who_ruin_the_model = df[df['DevType'] == 'Student'].index\n",
        "print(that_one_kid_who_ruin_the_model)"
      ],
      "metadata": {
        "colab": {
          "base_uri": "https://localhost:8080/"
        },
        "id": "qFMeQspZUsFm",
        "outputId": "86b82d9c-6172-4a63-bdaf-e89f78540ddd"
      },
      "execution_count": 114,
      "outputs": [
        {
          "output_type": "stream",
          "name": "stdout",
          "text": [
            "Int64Index([74], dtype='int64')\n"
          ]
        }
      ]
    },
    {
      "cell_type": "code",
      "execution_count": 115,
      "metadata": {
        "colab": {
          "base_uri": "https://localhost:8080/",
          "height": 603
        },
        "id": "wXkM_OF1GDqh",
        "outputId": "5197c196-08b9-485b-ab67-59a82ddbf068"
      },
      "outputs": [
        {
          "output_type": "stream",
          "name": "stdout",
          "text": [
            "WorkPlace       category\n",
            "EdLevel         category\n",
            "YearsCodePro     float64\n",
            "YearsCode        float64\n",
            "Employment      category\n",
            "WorkPosition    category\n",
            "DevType           object\n",
            "OrgSize         category\n",
            "_Salary          float64\n",
            "dtype: object\n",
            "--------------\n",
            "record:369 columns:9\n",
            "--------------\n"
          ]
        },
        {
          "output_type": "execute_result",
          "data": {
            "text/plain": [
              "  WorkPlace EdLevel  YearsCodePro  YearsCode Employment WorkPosition  \\\n",
              "0         1       2           4.0       15.0          1         Data   \n",
              "1         1       2           0.0        7.0          1         Data   \n",
              "2         1       2           6.0        8.0          1         Data   \n",
              "3         1       1           5.0        5.0          1      Web dev   \n",
              "4         1       1           2.0        4.0          1      Web dev   \n",
              "5         1       1           1.0        3.0          1         Data   \n",
              "6         1       2           1.0        3.0          1      Web dev   \n",
              "7         1       1           0.5        0.5          1         Data   \n",
              "8         1       1           1.0        5.0          1         Data   \n",
              "9         0       0           1.0        5.0          1         Data   \n",
              "\n",
              "                                                                                                        DevType  \\\n",
              "0                                                      Data scientist or machine learning specialist, Scientist   \n",
              "1                                   Data scientist or machine learning specialist, Academic researcher, Student   \n",
              "2                                                                                                 Data engineer   \n",
              "3                                                           Front-end developer, QA or test developer, Designer   \n",
              "4                                                                                          Full-stack developer   \n",
              "5                                                                 Data scientist or machine learning specialist   \n",
              "6                                                                                           Front-end developer   \n",
              "7                                       Data scientist or machine learning specialist, Data or business analyst   \n",
              "8  Back-end developer, Front-end developer, Data scientist or machine learning specialist, QA or test developer   \n",
              "9                        Data scientist or machine learning specialist, Scientist, Academic researcher, Student   \n",
              "\n",
              "  OrgSize    _Salary  \n",
              "0       4  12.500000  \n",
              "1       4   2.000000  \n",
              "2       3   6.300000  \n",
              "3       1   3.333333  \n",
              "4       4   2.200000  \n",
              "5       2   2.300000  \n",
              "6       2   4.500000  \n",
              "7       1   3.000000  \n",
              "8       2   6.400000  \n",
              "9       3   7.658333  "
            ],
            "text/html": [
              "\n",
              "  <div id=\"df-50645099-663a-421d-93b9-1cee2e85fafd\">\n",
              "    <div class=\"colab-df-container\">\n",
              "      <div>\n",
              "<style scoped>\n",
              "    .dataframe tbody tr th:only-of-type {\n",
              "        vertical-align: middle;\n",
              "    }\n",
              "\n",
              "    .dataframe tbody tr th {\n",
              "        vertical-align: top;\n",
              "    }\n",
              "\n",
              "    .dataframe thead th {\n",
              "        text-align: right;\n",
              "    }\n",
              "</style>\n",
              "<table border=\"1\" class=\"dataframe\">\n",
              "  <thead>\n",
              "    <tr style=\"text-align: right;\">\n",
              "      <th></th>\n",
              "      <th>WorkPlace</th>\n",
              "      <th>EdLevel</th>\n",
              "      <th>YearsCodePro</th>\n",
              "      <th>YearsCode</th>\n",
              "      <th>Employment</th>\n",
              "      <th>WorkPosition</th>\n",
              "      <th>DevType</th>\n",
              "      <th>OrgSize</th>\n",
              "      <th>_Salary</th>\n",
              "    </tr>\n",
              "  </thead>\n",
              "  <tbody>\n",
              "    <tr>\n",
              "      <th>0</th>\n",
              "      <td>1</td>\n",
              "      <td>2</td>\n",
              "      <td>4.0</td>\n",
              "      <td>15.0</td>\n",
              "      <td>1</td>\n",
              "      <td>Data</td>\n",
              "      <td>Data scientist or machine learning specialist, Scientist</td>\n",
              "      <td>4</td>\n",
              "      <td>12.500000</td>\n",
              "    </tr>\n",
              "    <tr>\n",
              "      <th>1</th>\n",
              "      <td>1</td>\n",
              "      <td>2</td>\n",
              "      <td>0.0</td>\n",
              "      <td>7.0</td>\n",
              "      <td>1</td>\n",
              "      <td>Data</td>\n",
              "      <td>Data scientist or machine learning specialist, Academic researcher, Student</td>\n",
              "      <td>4</td>\n",
              "      <td>2.000000</td>\n",
              "    </tr>\n",
              "    <tr>\n",
              "      <th>2</th>\n",
              "      <td>1</td>\n",
              "      <td>2</td>\n",
              "      <td>6.0</td>\n",
              "      <td>8.0</td>\n",
              "      <td>1</td>\n",
              "      <td>Data</td>\n",
              "      <td>Data engineer</td>\n",
              "      <td>3</td>\n",
              "      <td>6.300000</td>\n",
              "    </tr>\n",
              "    <tr>\n",
              "      <th>3</th>\n",
              "      <td>1</td>\n",
              "      <td>1</td>\n",
              "      <td>5.0</td>\n",
              "      <td>5.0</td>\n",
              "      <td>1</td>\n",
              "      <td>Web dev</td>\n",
              "      <td>Front-end developer, QA or test developer, Designer</td>\n",
              "      <td>1</td>\n",
              "      <td>3.333333</td>\n",
              "    </tr>\n",
              "    <tr>\n",
              "      <th>4</th>\n",
              "      <td>1</td>\n",
              "      <td>1</td>\n",
              "      <td>2.0</td>\n",
              "      <td>4.0</td>\n",
              "      <td>1</td>\n",
              "      <td>Web dev</td>\n",
              "      <td>Full-stack developer</td>\n",
              "      <td>4</td>\n",
              "      <td>2.200000</td>\n",
              "    </tr>\n",
              "    <tr>\n",
              "      <th>5</th>\n",
              "      <td>1</td>\n",
              "      <td>1</td>\n",
              "      <td>1.0</td>\n",
              "      <td>3.0</td>\n",
              "      <td>1</td>\n",
              "      <td>Data</td>\n",
              "      <td>Data scientist or machine learning specialist</td>\n",
              "      <td>2</td>\n",
              "      <td>2.300000</td>\n",
              "    </tr>\n",
              "    <tr>\n",
              "      <th>6</th>\n",
              "      <td>1</td>\n",
              "      <td>2</td>\n",
              "      <td>1.0</td>\n",
              "      <td>3.0</td>\n",
              "      <td>1</td>\n",
              "      <td>Web dev</td>\n",
              "      <td>Front-end developer</td>\n",
              "      <td>2</td>\n",
              "      <td>4.500000</td>\n",
              "    </tr>\n",
              "    <tr>\n",
              "      <th>7</th>\n",
              "      <td>1</td>\n",
              "      <td>1</td>\n",
              "      <td>0.5</td>\n",
              "      <td>0.5</td>\n",
              "      <td>1</td>\n",
              "      <td>Data</td>\n",
              "      <td>Data scientist or machine learning specialist, Data or business analyst</td>\n",
              "      <td>1</td>\n",
              "      <td>3.000000</td>\n",
              "    </tr>\n",
              "    <tr>\n",
              "      <th>8</th>\n",
              "      <td>1</td>\n",
              "      <td>1</td>\n",
              "      <td>1.0</td>\n",
              "      <td>5.0</td>\n",
              "      <td>1</td>\n",
              "      <td>Data</td>\n",
              "      <td>Back-end developer, Front-end developer, Data scientist or machine learning specialist, QA or test developer</td>\n",
              "      <td>2</td>\n",
              "      <td>6.400000</td>\n",
              "    </tr>\n",
              "    <tr>\n",
              "      <th>9</th>\n",
              "      <td>0</td>\n",
              "      <td>0</td>\n",
              "      <td>1.0</td>\n",
              "      <td>5.0</td>\n",
              "      <td>1</td>\n",
              "      <td>Data</td>\n",
              "      <td>Data scientist or machine learning specialist, Scientist, Academic researcher, Student</td>\n",
              "      <td>3</td>\n",
              "      <td>7.658333</td>\n",
              "    </tr>\n",
              "  </tbody>\n",
              "</table>\n",
              "</div>\n",
              "      <button class=\"colab-df-convert\" onclick=\"convertToInteractive('df-50645099-663a-421d-93b9-1cee2e85fafd')\"\n",
              "              title=\"Convert this dataframe to an interactive table.\"\n",
              "              style=\"display:none;\">\n",
              "        \n",
              "  <svg xmlns=\"http://www.w3.org/2000/svg\" height=\"24px\"viewBox=\"0 0 24 24\"\n",
              "       width=\"24px\">\n",
              "    <path d=\"M0 0h24v24H0V0z\" fill=\"none\"/>\n",
              "    <path d=\"M18.56 5.44l.94 2.06.94-2.06 2.06-.94-2.06-.94-.94-2.06-.94 2.06-2.06.94zm-11 1L8.5 8.5l.94-2.06 2.06-.94-2.06-.94L8.5 2.5l-.94 2.06-2.06.94zm10 10l.94 2.06.94-2.06 2.06-.94-2.06-.94-.94-2.06-.94 2.06-2.06.94z\"/><path d=\"M17.41 7.96l-1.37-1.37c-.4-.4-.92-.59-1.43-.59-.52 0-1.04.2-1.43.59L10.3 9.45l-7.72 7.72c-.78.78-.78 2.05 0 2.83L4 21.41c.39.39.9.59 1.41.59.51 0 1.02-.2 1.41-.59l7.78-7.78 2.81-2.81c.8-.78.8-2.07 0-2.86zM5.41 20L4 18.59l7.72-7.72 1.47 1.35L5.41 20z\"/>\n",
              "  </svg>\n",
              "      </button>\n",
              "      \n",
              "  <style>\n",
              "    .colab-df-container {\n",
              "      display:flex;\n",
              "      flex-wrap:wrap;\n",
              "      gap: 12px;\n",
              "    }\n",
              "\n",
              "    .colab-df-convert {\n",
              "      background-color: #E8F0FE;\n",
              "      border: none;\n",
              "      border-radius: 50%;\n",
              "      cursor: pointer;\n",
              "      display: none;\n",
              "      fill: #1967D2;\n",
              "      height: 32px;\n",
              "      padding: 0 0 0 0;\n",
              "      width: 32px;\n",
              "    }\n",
              "\n",
              "    .colab-df-convert:hover {\n",
              "      background-color: #E2EBFA;\n",
              "      box-shadow: 0px 1px 2px rgba(60, 64, 67, 0.3), 0px 1px 3px 1px rgba(60, 64, 67, 0.15);\n",
              "      fill: #174EA6;\n",
              "    }\n",
              "\n",
              "    [theme=dark] .colab-df-convert {\n",
              "      background-color: #3B4455;\n",
              "      fill: #D2E3FC;\n",
              "    }\n",
              "\n",
              "    [theme=dark] .colab-df-convert:hover {\n",
              "      background-color: #434B5C;\n",
              "      box-shadow: 0px 1px 3px 1px rgba(0, 0, 0, 0.15);\n",
              "      filter: drop-shadow(0px 1px 2px rgba(0, 0, 0, 0.3));\n",
              "      fill: #FFFFFF;\n",
              "    }\n",
              "  </style>\n",
              "\n",
              "      <script>\n",
              "        const buttonEl =\n",
              "          document.querySelector('#df-50645099-663a-421d-93b9-1cee2e85fafd button.colab-df-convert');\n",
              "        buttonEl.style.display =\n",
              "          google.colab.kernel.accessAllowed ? 'block' : 'none';\n",
              "\n",
              "        async function convertToInteractive(key) {\n",
              "          const element = document.querySelector('#df-50645099-663a-421d-93b9-1cee2e85fafd');\n",
              "          const dataTable =\n",
              "            await google.colab.kernel.invokeFunction('convertToInteractive',\n",
              "                                                     [key], {});\n",
              "          if (!dataTable) return;\n",
              "\n",
              "          const docLinkHtml = 'Like what you see? Visit the ' +\n",
              "            '<a target=\"_blank\" href=https://colab.research.google.com/notebooks/data_table.ipynb>data table notebook</a>'\n",
              "            + ' to learn more about interactive tables.';\n",
              "          element.innerHTML = '';\n",
              "          dataTable['output_type'] = 'display_data';\n",
              "          await google.colab.output.renderOutput(dataTable, element);\n",
              "          const docLink = document.createElement('div');\n",
              "          docLink.innerHTML = docLinkHtml;\n",
              "          element.appendChild(docLink);\n",
              "        }\n",
              "      </script>\n",
              "    </div>\n",
              "  </div>\n",
              "  "
            ]
          },
          "metadata": {},
          "execution_count": 115
        }
      ],
      "source": [
        "print(df.dtypes)\n",
        "print('--------------')\n",
        "print(f'record:{df.shape[0]} columns:{df.shape[1]}')\n",
        "print('--------------')\n",
        "df.head(10)"
      ]
    },
    {
      "cell_type": "code",
      "source": [
        "ax = df['WorkPosition'].value_counts()\n",
        "plt.pie(ax, labels=ax.index)\n",
        "plt.show()"
      ],
      "metadata": {
        "colab": {
          "base_uri": "https://localhost:8080/",
          "height": 248
        },
        "id": "U1nMZ0rGixoN",
        "outputId": "7a910fe5-c5c2-47f2-ff66-8356373d9970"
      },
      "execution_count": 116,
      "outputs": [
        {
          "output_type": "display_data",
          "data": {
            "text/plain": [
              "<Figure size 432x288 with 1 Axes>"
            ],
            "image/png": "[encoded data removed]"
          },
          "metadata": {}
        }
      ]
    },
    {
      "cell_type": "code",
      "source": [
        "ax = df.groupby(by=['WorkPosition'], as_index=False).mean()[['WorkPosition','_Salary']].sort_values(by=['_Salary'],ascending=True)\n",
        "plt.barh(ax['WorkPosition'], ax['_Salary'])\n",
        "plt.xlabel('Salary(x10k BTH/Mnth)')\n",
        "plt.show()"
      ],
      "metadata": {
        "colab": {
          "base_uri": "https://localhost:8080/",
          "height": 279
        },
        "id": "was0HClLjizJ",
        "outputId": "399bd8a6-9948-40d3-840f-fae3d21d4985"
      },
      "execution_count": 117,
      "outputs": [
        {
          "output_type": "display_data",
          "data": {
            "text/plain": [
              "<Figure size 432x288 with 1 Axes>"
            ],
            "image/png": "[encoded data removed]"
          },
          "metadata": {
            "needs_background": "light"
          }
        }
      ]
    },
    {
      "cell_type": "markdown",
      "source": [
        "## Train Test Split"
      ],
      "metadata": {
        "id": "DN1LH8XbxNgJ"
      }
    },
    {
      "cell_type": "code",
      "source": [
        "df_test = pd.read_csv('test-set.csv')\n",
        "\n",
        "train_data = df.drop(df_test['index'])\n",
        "test_data = df.drop(train_data.index)\n",
        "\n",
        "X_train = train_data.drop(columns=['_Salary'])\n",
        "y_train = train_data['_Salary']\n",
        "\n",
        "X_test = test_data.drop(columns=['_Salary'])\n",
        "y_test = test_data['_Salary']\n",
        "\n",
        "print(df_test.sort_values(by=['index']).iloc[0])\n",
        "print('--------------------')\n",
        "print(test_data.iloc[0])\n",
        "\n",
        "# Drop Student\n",
        "train_data = train_data.drop(that_one_kid_who_ruin_the_model)\n",
        "X_train = X_train.drop(that_one_kid_who_ruin_the_model)\n",
        "y_train = y_train.drop(that_one_kid_who_ruin_the_model)\n",
        "\n",
        "print(len(y_train))\n",
        "print(len(X_train))"
      ],
      "metadata": {
        "colab": {
          "base_uri": "https://localhost:8080/"
        },
        "id": "vQ6Zv-JvdKrU",
        "outputId": "67d39fd6-d032-4199-dfdc-d9c5411036bd"
      },
      "execution_count": 118,
      "outputs": [
        {
          "output_type": "stream",
          "name": "stdout",
          "text": [
            "Unnamed: 0                                                           12\n",
            "index                                                                 5\n",
            "WorkPlace                                                             1\n",
            "EdLevel                                                               1\n",
            "YearsCodePro                                                        1.0\n",
            "YearsCode                                                           3.0\n",
            "Employment                                                            1\n",
            "WorkPosition                                                       Data\n",
            "DevType                   Data scientist or machine learning specialist\n",
            "LanguageHaveWorkedWith                       C, Python, SQL, Bash/Shell\n",
            "Age                                                     18-24 years old\n",
            "OrgSize                                                               2\n",
            "Salary                                                              2.3\n",
            "Baseline from DEPA                                                51100\n",
            "index.1                                                               5\n",
            "Name: 12, dtype: object\n",
            "--------------------\n",
            "WorkPlace                                                   1\n",
            "EdLevel                                                     1\n",
            "YearsCodePro                                              1.0\n",
            "YearsCode                                                 3.0\n",
            "Employment                                                  1\n",
            "WorkPosition                                             Data\n",
            "DevType         Data scientist or machine learning specialist\n",
            "OrgSize                                                     2\n",
            "_Salary                                                   2.3\n",
            "Name: 5, dtype: object\n",
            "296\n",
            "296\n"
          ]
        }
      ]
    },
    {
      "cell_type": "markdown",
      "source": [
        "### Check test data for a bit\n",
        "\n",
        "These two cell should show the same array because they are the same test set "
      ],
      "metadata": {
        "id": "n7QI6w5_ljrg"
      }
    },
    {
      "cell_type": "code",
      "source": [
        "test_data.index"
      ],
      "metadata": {
        "colab": {
          "base_uri": "https://localhost:8080/"
        },
        "id": "h1DAbZ0ElTQU",
        "outputId": "c0a5ad76-5645-4404-d29f-0c2c1a318191"
      },
      "execution_count": 119,
      "outputs": [
        {
          "output_type": "execute_result",
          "data": {
            "text/plain": [
              "Int64Index([  5,  13,  15,  18,  19,  23,  27,  31,  32,  40,  47,  48,  59,\n",
              "             62,  65,  69,  70,  80,  89,  96,  97, 100, 101, 113, 138, 144,\n",
              "            148, 149, 156, 162, 163, 164, 167, 171, 180, 182, 197, 201, 206,\n",
              "            208, 222, 227, 232, 236, 245, 246, 249, 254, 259, 265, 269, 282,\n",
              "            283, 286, 293, 296, 302, 304, 311, 317, 320, 321, 323, 324, 325,\n",
              "            332, 333, 339, 345, 350, 353, 357],\n",
              "           dtype='int64')"
            ]
          },
          "metadata": {},
          "execution_count": 119
        }
      ]
    },
    {
      "cell_type": "code",
      "source": [
        "df_test.sort_values(by=['index'])['index'].values"
      ],
      "metadata": {
        "colab": {
          "base_uri": "https://localhost:8080/"
        },
        "id": "9V-6qNNbew_k",
        "outputId": "eef389d4-0ef6-4ad8-ae6f-38ebf812631e"
      },
      "execution_count": 120,
      "outputs": [
        {
          "output_type": "execute_result",
          "data": {
            "text/plain": [
              "array([  5,  13,  15,  18,  19,  23,  27,  31,  32,  40,  47,  48,  59,\n",
              "        62,  65,  69,  70,  80,  89,  96,  97, 100, 101, 113, 138, 144,\n",
              "       148, 149, 156, 162, 163, 164, 167, 171, 180, 182, 197, 201, 206,\n",
              "       208, 222, 227, 232, 236, 245, 246, 249, 254, 259, 265, 269, 282,\n",
              "       283, 286, 293, 296, 302, 304, 311, 317, 320, 321, 323, 324, 325,\n",
              "       332, 333, 339, 345, 350, 353, 357])"
            ]
          },
          "metadata": {},
          "execution_count": 120
        }
      ]
    },
    {
      "cell_type": "markdown",
      "metadata": {
        "id": "Odp9ouW5oSL3"
      },
      "source": [
        "# Training with AutoGluon"
      ]
    },
    {
      "cell_type": "markdown",
      "metadata": {
        "id": "wmix_XeyRLCh"
      },
      "source": [
        "## Import AutoGluon"
      ]
    },
    {
      "cell_type": "code",
      "execution_count": 121,
      "metadata": {
        "id": "9RQZA8g9fu1A"
      },
      "outputs": [],
      "source": [
        "from autogluon.tabular import TabularDataset, TabularPredictor"
      ]
    },
    {
      "cell_type": "markdown",
      "metadata": {
        "id": "1tqjyZp-RPDf"
      },
      "source": [
        "## Data Preprocessing\n",
        "\n",
        "Use Auto Gluon's feature engineer to create feature from DevType"
      ]
    },
    {
      "cell_type": "markdown",
      "source": [
        "### Fit Feature Generator"
      ],
      "metadata": {
        "id": "TS15OxCBywqz"
      }
    },
    {
      "cell_type": "code",
      "execution_count": 122,
      "metadata": {
        "id": "gGaO6jDx2YEg",
        "colab": {
          "base_uri": "https://localhost:8080/",
          "height": 980
        },
        "outputId": "ef88de3c-2a97-44dc-8e2b-0597b3f70892"
      },
      "outputs": [
        {
          "output_type": "stream",
          "name": "stderr",
          "text": [
            "Fitting AutoMLPipelineFeatureGenerator...\n",
            "\tAvailable Memory:                    11222.67 MB\n",
            "\tTrain Data (Original)  Memory Usage: 0.05 MB (0.0% of available memory)\n",
            "\tInferring data type of each feature based on column values. Set feature_metadata_in to manually specify special dtypes of the features.\n",
            "\tStage 1 Generators:\n",
            "\t\tFitting AsTypeFeatureGenerator...\n",
            "\t\t\tNote: Converting 2 features to boolean dtype as they only contain 2 unique values.\n",
            "\tStage 2 Generators:\n",
            "\t\tFitting FillNaFeatureGenerator...\n",
            "\tStage 3 Generators:\n",
            "\t\tFitting IdentityFeatureGenerator...\n",
            "\t\tFitting CategoryFeatureGenerator...\n",
            "\t\t\tFitting CategoryMemoryMinimizeFeatureGenerator...\n",
            "\t\tFitting TextSpecialFeatureGenerator...\n",
            "\t\t\tFitting BinnedFeatureGenerator...\n",
            "\t\t\tFitting DropDuplicatesFeatureGenerator...\n",
            "\t\tFitting TextNgramFeatureGenerator...\n",
            "\t\t\tFitting CountVectorizer for text features: ['DevType']\n",
            "\t\t\tCountVectorizer fit with vocabulary size = 33\n",
            "\tStage 4 Generators:\n",
            "\t\tFitting DropUniqueFeatureGenerator...\n",
            "\tTypes of features in original data (raw dtype, special dtypes):\n",
            "\t\t('category', [])     : 5 | ['WorkPlace', 'EdLevel', 'Employment', 'WorkPosition', 'OrgSize']\n",
            "\t\t('float', [])        : 3 | ['YearsCodePro', 'YearsCode', '_Salary']\n",
            "\t\t('object', ['text']) : 1 | ['DevType']\n",
            "\tTypes of features in processed data (raw dtype, special dtypes):\n",
            "\t\t('category', [])                    :  3 | ['EdLevel', 'WorkPosition', 'OrgSize']\n",
            "\t\t('category', ['text_as_category'])  :  1 | ['DevType']\n",
            "\t\t('float', [])                       :  3 | ['YearsCodePro', 'YearsCode', '_Salary']\n",
            "\t\t('int', ['binned', 'text_special']) : 11 | ['DevType.char_count', 'DevType.word_count', 'DevType.capital_ratio', 'DevType.lower_ratio', 'DevType.special_ratio', ...]\n",
            "\t\t('int', ['bool'])                   :  2 | ['WorkPlace', 'Employment']\n",
            "\t\t('int', ['text_ngram'])             : 34 | ['__nlp__.administrator', '__nlp__.analyst', '__nlp__.applications', '__nlp__.back', '__nlp__.back end', ...]\n",
            "\t0.7s = Fit runtime\n",
            "\t9 features in original data used to generate 54 features in processed data.\n",
            "\tTrain Data (Processed) Memory Usage: 0.04 MB (0.0% of available memory)\n"
          ]
        },
        {
          "output_type": "execute_result",
          "data": {
            "text/plain": [
              "   WorkPlace  YearsCodePro  YearsCode  Employment    _Salary EdLevel  \\\n",
              "0          0           4.0       15.0           0  12.500000       2   \n",
              "1          0           0.0        7.0           0   2.000000       2   \n",
              "2          0           6.0        8.0           0   6.300000       2   \n",
              "3          0           5.0        5.0           0   3.333333       1   \n",
              "4          0           2.0        4.0           0   2.200000       1   \n",
              "\n",
              "  WorkPosition DevType OrgSize  DevType.char_count  ...  \\\n",
              "0            3     NaN       4                   6  ...   \n",
              "1            3     NaN       4                   7  ...   \n",
              "2            3      17       3                   0  ...   \n",
              "3           14     NaN       1                   6  ...   \n",
              "4           14      28       4                   1  ...   \n",
              "\n",
              "   __nlp__.full stack developer  __nlp__.learning  __nlp__.machine  \\\n",
              "0                             0                 1                1   \n",
              "1                             0                 1                1   \n",
              "2                             0                 0                0   \n",
              "3                             0                 0                0   \n",
              "4                             1                 0                0   \n",
              "\n",
              "   __nlp__.machine learning  __nlp__.or  __nlp__.scientist  \\\n",
              "0                         1           1                  2   \n",
              "1                         1           1                  1   \n",
              "2                         0           0                  0   \n",
              "3                         0           1                  0   \n",
              "4                         0           0                  0   \n",
              "\n",
              "   __nlp__.specialist  __nlp__.stack  __nlp__.stack developer  __nlp__._total_  \n",
              "0                   1              0                        0                7  \n",
              "1                   1              0                        0                7  \n",
              "2                   0              0                        0                2  \n",
              "3                   0              0                        0                7  \n",
              "4                   0              1                        1                6  \n",
              "\n",
              "[5 rows x 54 columns]"
            ],
            "text/html": [
              "\n",
              "  <div id=\"df-381cca61-98fe-4dd4-ac9e-491f61dcff32\">\n",
              "    <div class=\"colab-df-container\">\n",
              "      <div>\n",
              "<style scoped>\n",
              "    .dataframe tbody tr th:only-of-type {\n",
              "        vertical-align: middle;\n",
              "    }\n",
              "\n",
              "    .dataframe tbody tr th {\n",
              "        vertical-align: top;\n",
              "    }\n",
              "\n",
              "    .dataframe thead th {\n",
              "        text-align: right;\n",
              "    }\n",
              "</style>\n",
              "<table border=\"1\" class=\"dataframe\">\n",
              "  <thead>\n",
              "    <tr style=\"text-align: right;\">\n",
              "      <th></th>\n",
              "      <th>WorkPlace</th>\n",
              "      <th>YearsCodePro</th>\n",
              "      <th>YearsCode</th>\n",
              "      <th>Employment</th>\n",
              "      <th>_Salary</th>\n",
              "      <th>EdLevel</th>\n",
              "      <th>WorkPosition</th>\n",
              "      <th>DevType</th>\n",
              "      <th>OrgSize</th>\n",
              "      <th>DevType.char_count</th>\n",
              "      <th>...</th>\n",
              "      <th>__nlp__.full stack developer</th>\n",
              "      <th>__nlp__.learning</th>\n",
              "      <th>__nlp__.machine</th>\n",
              "      <th>__nlp__.machine learning</th>\n",
              "      <th>__nlp__.or</th>\n",
              "      <th>__nlp__.scientist</th>\n",
              "      <th>__nlp__.specialist</th>\n",
              "      <th>__nlp__.stack</th>\n",
              "      <th>__nlp__.stack developer</th>\n",
              "      <th>__nlp__._total_</th>\n",
              "    </tr>\n",
              "  </thead>\n",
              "  <tbody>\n",
              "    <tr>\n",
              "      <th>0</th>\n",
              "      <td>0</td>\n",
              "      <td>4.0</td>\n",
              "      <td>15.0</td>\n",
              "      <td>0</td>\n",
              "      <td>12.500000</td>\n",
              "      <td>2</td>\n",
              "      <td>3</td>\n",
              "      <td>NaN</td>\n",
              "      <td>4</td>\n",
              "      <td>6</td>\n",
              "      <td>...</td>\n",
              "      <td>0</td>\n",
              "      <td>1</td>\n",
              "      <td>1</td>\n",
              "      <td>1</td>\n",
              "      <td>1</td>\n",
              "      <td>2</td>\n",
              "      <td>1</td>\n",
              "      <td>0</td>\n",
              "      <td>0</td>\n",
              "      <td>7</td>\n",
              "    </tr>\n",
              "    <tr>\n",
              "      <th>1</th>\n",
              "      <td>0</td>\n",
              "      <td>0.0</td>\n",
              "      <td>7.0</td>\n",
              "      <td>0</td>\n",
              "      <td>2.000000</td>\n",
              "      <td>2</td>\n",
              "      <td>3</td>\n",
              "      <td>NaN</td>\n",
              "      <td>4</td>\n",
              "      <td>7</td>\n",
              "      <td>...</td>\n",
              "      <td>0</td>\n",
              "      <td>1</td>\n",
              "      <td>1</td>\n",
              "      <td>1</td>\n",
              "      <td>1</td>\n",
              "      <td>1</td>\n",
              "      <td>1</td>\n",
              "      <td>0</td>\n",
              "      <td>0</td>\n",
              "      <td>7</td>\n",
              "    </tr>\n",
              "    <tr>\n",
              "      <th>2</th>\n",
              "      <td>0</td>\n",
              "      <td>6.0</td>\n",
              "      <td>8.0</td>\n",
              "      <td>0</td>\n",
              "      <td>6.300000</td>\n",
              "      <td>2</td>\n",
              "      <td>3</td>\n",
              "      <td>17</td>\n",
              "      <td>3</td>\n",
              "      <td>0</td>\n",
              "      <td>...</td>\n",
              "      <td>0</td>\n",
              "      <td>0</td>\n",
              "      <td>0</td>\n",
              "      <td>0</td>\n",
              "      <td>0</td>\n",
              "      <td>0</td>\n",
              "      <td>0</td>\n",
              "      <td>0</td>\n",
              "      <td>0</td>\n",
              "      <td>2</td>\n",
              "    </tr>\n",
              "    <tr>\n",
              "      <th>3</th>\n",
              "      <td>0</td>\n",
              "      <td>5.0</td>\n",
              "      <td>5.0</td>\n",
              "      <td>0</td>\n",
              "      <td>3.333333</td>\n",
              "      <td>1</td>\n",
              "      <td>14</td>\n",
              "      <td>NaN</td>\n",
              "      <td>1</td>\n",
              "      <td>6</td>\n",
              "      <td>...</td>\n",
              "      <td>0</td>\n",
              "      <td>0</td>\n",
              "      <td>0</td>\n",
              "      <td>0</td>\n",
              "      <td>1</td>\n",
              "      <td>0</td>\n",
              "      <td>0</td>\n",
              "      <td>0</td>\n",
              "      <td>0</td>\n",
              "      <td>7</td>\n",
              "    </tr>\n",
              "    <tr>\n",
              "      <th>4</th>\n",
              "      <td>0</td>\n",
              "      <td>2.0</td>\n",
              "      <td>4.0</td>\n",
              "      <td>0</td>\n",
              "      <td>2.200000</td>\n",
              "      <td>1</td>\n",
              "      <td>14</td>\n",
              "      <td>28</td>\n",
              "      <td>4</td>\n",
              "      <td>1</td>\n",
              "      <td>...</td>\n",
              "      <td>1</td>\n",
              "      <td>0</td>\n",
              "      <td>0</td>\n",
              "      <td>0</td>\n",
              "      <td>0</td>\n",
              "      <td>0</td>\n",
              "      <td>0</td>\n",
              "      <td>1</td>\n",
              "      <td>1</td>\n",
              "      <td>6</td>\n",
              "    </tr>\n",
              "  </tbody>\n",
              "</table>\n",
              "<p>5 rows × 54 columns</p>\n",
              "</div>\n",
              "      <button class=\"colab-df-convert\" onclick=\"convertToInteractive('df-381cca61-98fe-4dd4-ac9e-491f61dcff32')\"\n",
              "              title=\"Convert this dataframe to an interactive table.\"\n",
              "              style=\"display:none;\">\n",
              "        \n",
              "  <svg xmlns=\"http://www.w3.org/2000/svg\" height=\"24px\"viewBox=\"0 0 24 24\"\n",
              "       width=\"24px\">\n",
              "    <path d=\"M0 0h24v24H0V0z\" fill=\"none\"/>\n",
              "    <path d=\"M18.56 5.44l.94 2.06.94-2.06 2.06-.94-2.06-.94-.94-2.06-.94 2.06-2.06.94zm-11 1L8.5 8.5l.94-2.06 2.06-.94-2.06-.94L8.5 2.5l-.94 2.06-2.06.94zm10 10l.94 2.06.94-2.06 2.06-.94-2.06-.94-.94-2.06-.94 2.06-2.06.94z\"/><path d=\"M17.41 7.96l-1.37-1.37c-.4-.4-.92-.59-1.43-.59-.52 0-1.04.2-1.43.59L10.3 9.45l-7.72 7.72c-.78.78-.78 2.05 0 2.83L4 21.41c.39.39.9.59 1.41.59.51 0 1.02-.2 1.41-.59l7.78-7.78 2.81-2.81c.8-.78.8-2.07 0-2.86zM5.41 20L4 18.59l7.72-7.72 1.47 1.35L5.41 20z\"/>\n",
              "  </svg>\n",
              "      </button>\n",
              "      \n",
              "  <style>\n",
              "    .colab-df-container {\n",
              "      display:flex;\n",
              "      flex-wrap:wrap;\n",
              "      gap: 12px;\n",
              "    }\n",
              "\n",
              "    .colab-df-convert {\n",
              "      background-color: #E8F0FE;\n",
              "      border: none;\n",
              "      border-radius: 50%;\n",
              "      cursor: pointer;\n",
              "      display: none;\n",
              "      fill: #1967D2;\n",
              "      height: 32px;\n",
              "      padding: 0 0 0 0;\n",
              "      width: 32px;\n",
              "    }\n",
              "\n",
              "    .colab-df-convert:hover {\n",
              "      background-color: #E2EBFA;\n",
              "      box-shadow: 0px 1px 2px rgba(60, 64, 67, 0.3), 0px 1px 3px 1px rgba(60, 64, 67, 0.15);\n",
              "      fill: #174EA6;\n",
              "    }\n",
              "\n",
              "    [theme=dark] .colab-df-convert {\n",
              "      background-color: #3B4455;\n",
              "      fill: #D2E3FC;\n",
              "    }\n",
              "\n",
              "    [theme=dark] .colab-df-convert:hover {\n",
              "      background-color: #434B5C;\n",
              "      box-shadow: 0px 1px 3px 1px rgba(0, 0, 0, 0.15);\n",
              "      filter: drop-shadow(0px 1px 2px rgba(0, 0, 0, 0.3));\n",
              "      fill: #FFFFFF;\n",
              "    }\n",
              "  </style>\n",
              "\n",
              "      <script>\n",
              "        const buttonEl =\n",
              "          document.querySelector('#df-381cca61-98fe-4dd4-ac9e-491f61dcff32 button.colab-df-convert');\n",
              "        buttonEl.style.display =\n",
              "          google.colab.kernel.accessAllowed ? 'block' : 'none';\n",
              "\n",
              "        async function convertToInteractive(key) {\n",
              "          const element = document.querySelector('#df-381cca61-98fe-4dd4-ac9e-491f61dcff32');\n",
              "          const dataTable =\n",
              "            await google.colab.kernel.invokeFunction('convertToInteractive',\n",
              "                                                     [key], {});\n",
              "          if (!dataTable) return;\n",
              "\n",
              "          const docLinkHtml = 'Like what you see? Visit the ' +\n",
              "            '<a target=\"_blank\" href=https://colab.research.google.com/notebooks/data_table.ipynb>data table notebook</a>'\n",
              "            + ' to learn more about interactive tables.';\n",
              "          element.innerHTML = '';\n",
              "          dataTable['output_type'] = 'display_data';\n",
              "          await google.colab.output.renderOutput(dataTable, element);\n",
              "          const docLink = document.createElement('div');\n",
              "          docLink.innerHTML = docLinkHtml;\n",
              "          element.appendChild(docLink);\n",
              "        }\n",
              "      </script>\n",
              "    </div>\n",
              "  </div>\n",
              "  "
            ]
          },
          "metadata": {},
          "execution_count": 122
        }
      ],
      "source": [
        "from autogluon.features.generators import AutoMLPipelineFeatureGenerator\n",
        "\n",
        "auto_ml_pipeline_feature_generator = AutoMLPipelineFeatureGenerator()\n",
        "auto_df =  auto_ml_pipeline_feature_generator.fit_transform(X=df)\n",
        "auto_df.head()"
      ]
    },
    {
      "cell_type": "markdown",
      "source": [
        "### Transform dataset"
      ],
      "metadata": {
        "id": "FBm2mm8kyqYu"
      }
    },
    {
      "cell_type": "code",
      "source": [
        "train_data_auto = auto_ml_pipeline_feature_generator.transform(X=train_data)\n",
        "test_data_auto = auto_ml_pipeline_feature_generator.transform(X=test_data)\n",
        "\n",
        "X_train_auto = train_data_auto.drop(columns=['_Salary'])\n",
        "y_train_auto = train_data_auto['_Salary']\n",
        "\n",
        "X_test_auto = test_data_auto.drop(columns=['_Salary'])\n",
        "y_test_auto = test_data_auto['_Salary']"
      ],
      "metadata": {
        "id": "1lORdhl4t7rX"
      },
      "execution_count": 123,
      "outputs": []
    },
    {
      "cell_type": "code",
      "source": [
        "auto_df.columns"
      ],
      "metadata": {
        "id": "TtpoFS1f0CBr",
        "outputId": "e90e41b5-b029-40ac-e79c-76d95be3dbdd",
        "colab": {
          "base_uri": "https://localhost:8080/"
        }
      },
      "execution_count": 124,
      "outputs": [
        {
          "output_type": "execute_result",
          "data": {
            "text/plain": [
              "Index(['WorkPlace', 'YearsCodePro', 'YearsCode', 'Employment', '_Salary',\n",
              "       'EdLevel', 'WorkPosition', 'DevType', 'OrgSize', 'DevType.char_count',\n",
              "       'DevType.word_count', 'DevType.capital_ratio', 'DevType.lower_ratio',\n",
              "       'DevType.special_ratio', 'DevType.symbol_count.#',\n",
              "       'DevType.symbol_ratio.#', 'DevType.symbol_count. ',\n",
              "       'DevType.symbol_ratio. ', 'DevType.symbol_count.-',\n",
              "       'DevType.symbol_ratio.-', '__nlp__.administrator', '__nlp__.analyst',\n",
              "       '__nlp__.applications', '__nlp__.back', '__nlp__.back end',\n",
              "       '__nlp__.back end developer', '__nlp__.data', '__nlp__.database',\n",
              "       '__nlp__.database administrator', '__nlp__.developer',\n",
              "       '__nlp__.developer front', '__nlp__.developer front end',\n",
              "       '__nlp__.developer full', '__nlp__.developer full stack', '__nlp__.end',\n",
              "       '__nlp__.end developer', '__nlp__.end developer front',\n",
              "       '__nlp__.end developer full', '__nlp__.engineer', '__nlp__.front',\n",
              "       '__nlp__.front end', '__nlp__.front end developer', '__nlp__.full',\n",
              "       '__nlp__.full stack', '__nlp__.full stack developer',\n",
              "       '__nlp__.learning', '__nlp__.machine', '__nlp__.machine learning',\n",
              "       '__nlp__.or', '__nlp__.scientist', '__nlp__.specialist',\n",
              "       '__nlp__.stack', '__nlp__.stack developer', '__nlp__._total_'],\n",
              "      dtype='object')"
            ]
          },
          "metadata": {},
          "execution_count": 124
        }
      ]
    },
    {
      "cell_type": "markdown",
      "metadata": {
        "id": "yyP7fQu5RU8r"
      },
      "source": [
        "## Train model"
      ]
    },
    {
      "cell_type": "code",
      "execution_count": 125,
      "metadata": {
        "id": "K62XNb46fdaF",
        "colab": {
          "base_uri": "https://localhost:8080/"
        },
        "outputId": "8b18bfed-5fa4-4e46-c773-abbeb6581c6a"
      },
      "outputs": [
        {
          "output_type": "stream",
          "name": "stderr",
          "text": [
            "Warning: path already exists! This predictor may overwrite an existing predictor! path=\"AG-Models\"\n",
            "Beginning AutoGluon training ...\n",
            "AutoGluon will save models to \"AG-Models/\"\n",
            "AutoGluon Version:  0.4.2\n",
            "Python Version:     3.7.13\n",
            "Operating System:   Linux\n",
            "Train Data Rows:    296\n",
            "Train Data Columns: 8\n",
            "Label Column: _Salary\n",
            "Preprocessing data ...\n",
            "AutoGluon infers your prediction problem is: 'regression' (because dtype of label-column == float and many unique label-values observed).\n",
            "\tLabel info (max, min, mean, stddev): (19.6, 0.8333333333333334, 4.78995, 3.17293)\n",
            "\tIf 'regression' is not the correct problem_type, please manually specify the problem_type parameter during predictor init (You may specify problem_type as one of: ['binary', 'multiclass', 'regression'])\n",
            "Using Feature Generators to preprocess the data ...\n",
            "Fitting AutoMLPipelineFeatureGenerator...\n",
            "\tAvailable Memory:                    11252.8 MB\n",
            "\tTrain Data (Original)  Memory Usage: 0.04 MB (0.0% of available memory)\n",
            "\tInferring data type of each feature based on column values. Set feature_metadata_in to manually specify special dtypes of the features.\n",
            "\tStage 1 Generators:\n",
            "\t\tFitting AsTypeFeatureGenerator...\n",
            "\t\t\tNote: Converting 2 features to boolean dtype as they only contain 2 unique values.\n",
            "\tStage 2 Generators:\n",
            "\t\tFitting FillNaFeatureGenerator...\n",
            "\tStage 3 Generators:\n",
            "\t\tFitting IdentityFeatureGenerator...\n",
            "\t\tFitting CategoryFeatureGenerator...\n",
            "\t\t\tFitting CategoryMemoryMinimizeFeatureGenerator...\n",
            "\t\tFitting TextSpecialFeatureGenerator...\n",
            "\t\t\tFitting BinnedFeatureGenerator...\n",
            "\t\t\tFitting DropDuplicatesFeatureGenerator...\n",
            "\t\tFitting TextNgramFeatureGenerator...\n",
            "\t\t\tFitting CountVectorizer for text features: ['DevType']\n",
            "\t\t\tCountVectorizer fit with vocabulary size = 25\n",
            "\tStage 4 Generators:\n",
            "\t\tFitting DropUniqueFeatureGenerator...\n",
            "\tTypes of features in original data (raw dtype, special dtypes):\n",
            "\t\t('category', [])     : 5 | ['WorkPlace', 'EdLevel', 'Employment', 'WorkPosition', 'OrgSize']\n",
            "\t\t('float', [])        : 2 | ['YearsCodePro', 'YearsCode']\n",
            "\t\t('object', ['text']) : 1 | ['DevType']\n",
            "\tTypes of features in processed data (raw dtype, special dtypes):\n",
            "\t\t('category', [])                    :  3 | ['EdLevel', 'WorkPosition', 'OrgSize']\n",
            "\t\t('category', ['text_as_category'])  :  1 | ['DevType']\n",
            "\t\t('float', [])                       :  2 | ['YearsCodePro', 'YearsCode']\n",
            "\t\t('int', ['binned', 'text_special']) : 11 | ['DevType.char_count', 'DevType.word_count', 'DevType.capital_ratio', 'DevType.lower_ratio', 'DevType.special_ratio', ...]\n",
            "\t\t('int', ['bool'])                   :  2 | ['WorkPlace', 'Employment']\n",
            "\t\t('int', ['text_ngram'])             : 26 | ['__nlp__.administrator', '__nlp__.back', '__nlp__.back end', '__nlp__.back end developer', '__nlp__.data', ...]\n",
            "\t0.5s = Fit runtime\n",
            "\t8 features in original data used to generate 45 features in processed data.\n",
            "\tTrain Data (Processed) Memory Usage: 0.03 MB (0.0% of available memory)\n",
            "Data preprocessing and feature engineering runtime = 0.55s ...\n",
            "AutoGluon will gauge predictive performance using evaluation metric: 'root_mean_squared_error'\n",
            "\tTo change this, specify the eval_metric parameter of Predictor()\n",
            "Automatically generating train/validation split with holdout_frac=0.2, Train Rows: 236, Val Rows: 60\n",
            "Fitting 11 L1 models ...\n",
            "Fitting model: KNeighborsUnif ...\n",
            "\t-2.9628\t = Validation score   (root_mean_squared_error)\n",
            "\t0.02s\t = Training   runtime\n",
            "\t0.11s\t = Validation runtime\n",
            "Fitting model: KNeighborsDist ...\n",
            "\t-3.0125\t = Validation score   (root_mean_squared_error)\n",
            "\t0.02s\t = Training   runtime\n",
            "\t0.1s\t = Validation runtime\n",
            "Fitting model: LightGBMXT ...\n",
            "\t-2.4915\t = Validation score   (root_mean_squared_error)\n",
            "\t0.39s\t = Training   runtime\n",
            "\t0.01s\t = Validation runtime\n",
            "Fitting model: LightGBM ...\n",
            "\t-2.5147\t = Validation score   (root_mean_squared_error)\n",
            "\t0.41s\t = Training   runtime\n",
            "\t0.01s\t = Validation runtime\n",
            "Fitting model: RandomForestMSE ...\n",
            "\t-2.8452\t = Validation score   (root_mean_squared_error)\n",
            "\t0.96s\t = Training   runtime\n",
            "\t0.11s\t = Validation runtime\n",
            "Fitting model: CatBoost ...\n",
            "\t-2.5537\t = Validation score   (root_mean_squared_error)\n",
            "\t1.66s\t = Training   runtime\n",
            "\t0.01s\t = Validation runtime\n",
            "Fitting model: ExtraTreesMSE ...\n",
            "\t-2.6888\t = Validation score   (root_mean_squared_error)\n",
            "\t0.86s\t = Training   runtime\n",
            "\t0.11s\t = Validation runtime\n",
            "Fitting model: NeuralNetFastAI ...\n",
            "No improvement since epoch 3: early stopping\n",
            "\t-2.5957\t = Validation score   (root_mean_squared_error)\n",
            "\t1.93s\t = Training   runtime\n",
            "\t0.02s\t = Validation runtime\n",
            "Fitting model: XGBoost ...\n",
            "\t-2.7921\t = Validation score   (root_mean_squared_error)\n",
            "\t0.48s\t = Training   runtime\n",
            "\t0.01s\t = Validation runtime\n",
            "Fitting model: NeuralNetTorch ...\n",
            "\t-2.5916\t = Validation score   (root_mean_squared_error)\n",
            "\t1.06s\t = Training   runtime\n",
            "\t0.02s\t = Validation runtime\n",
            "Fitting model: LightGBMLarge ...\n",
            "\t-2.585\t = Validation score   (root_mean_squared_error)\n",
            "\t0.44s\t = Training   runtime\n",
            "\t0.01s\t = Validation runtime\n",
            "Fitting model: WeightedEnsemble_L2 ...\n",
            "\t-2.4316\t = Validation score   (root_mean_squared_error)\n",
            "\t0.37s\t = Training   runtime\n",
            "\t0.0s\t = Validation runtime\n",
            "AutoGluon training complete, total runtime = 10.59s ... Best model: \"WeightedEnsemble_L2\"\n",
            "TabularPredictor saved. To load, use: predictor = TabularPredictor.load(\"AG-Models/\")\n"
          ]
        }
      ],
      "source": [
        "save_path = 'AG-Models'\n",
        "predictor = TabularPredictor(label='_Salary', path=save_path).fit(train_data)"
      ]
    },
    {
      "cell_type": "markdown",
      "metadata": {
        "id": "Jyu1T5jxRaoF"
      },
      "source": [
        "## Results"
      ]
    },
    {
      "cell_type": "code",
      "execution_count": 126,
      "metadata": {
        "id": "zG9ZBxetfeUe",
        "colab": {
          "base_uri": "https://localhost:8080/"
        },
        "outputId": "8185152a-19f1-40ce-e1e5-920297e9cf60"
      },
      "outputs": [
        {
          "output_type": "stream",
          "name": "stderr",
          "text": [
            "Evaluation: root_mean_squared_error on test data: -2.3674987780288532\n",
            "\tNote: Scores are always higher_is_better. This metric score can be multiplied by -1 to get the metric value.\n",
            "Evaluations on test data:\n",
            "{\n",
            "    \"root_mean_squared_error\": -2.3674987780288532,\n",
            "    \"mean_squared_error\": -5.605050463968112,\n",
            "    \"mean_absolute_error\": -1.7842705892191997,\n",
            "    \"r2\": 0.5050500013740955,\n",
            "    \"pearsonr\": 0.7356663146190269,\n",
            "    \"median_absolute_error\": -1.3320783138275147\n",
            "}\n"
          ]
        },
        {
          "output_type": "stream",
          "name": "stdout",
          "text": [
            "Predictions:  \n",
            " 5      2.986906\n",
            "13     4.176445\n",
            "15     3.211864\n",
            "18     2.758606\n",
            "19     5.098536\n",
            "         ...   \n",
            "339    8.120066\n",
            "345    2.713989\n",
            "350    3.524611\n",
            "353    8.267973\n",
            "357    4.978905\n",
            "Name: _Salary, Length: 72, dtype: float32\n"
          ]
        }
      ],
      "source": [
        "# Make sure that model can be loaded from path\n",
        "predictor = TabularPredictor.load(save_path)\n",
        "\n",
        "y_pred = predictor.predict(X_test)\n",
        "print(\"Predictions:  \\n\", y_pred)\n",
        "perf = predictor.evaluate_predictions(y_true=y_test, y_pred=y_pred, auxiliary_metrics=True)"
      ]
    },
    {
      "cell_type": "markdown",
      "source": [
        "### Model Leaderboard"
      ],
      "metadata": {
        "id": "3LWN1-wqyJpq"
      }
    },
    {
      "cell_type": "code",
      "execution_count": 127,
      "metadata": {
        "id": "Ij2uyuB3ffhL",
        "colab": {
          "base_uri": "https://localhost:8080/",
          "height": 425
        },
        "outputId": "d20272ac-403c-41d2-d200-48261357fc6d"
      },
      "outputs": [
        {
          "output_type": "execute_result",
          "data": {
            "text/plain": [
              "                  model  score_test  score_val  pred_time_test  pred_time_val  \\\n",
              "0         ExtraTreesMSE   -2.305923  -2.688806        0.130114       0.109629   \n",
              "1            LightGBMXT   -2.362808  -2.491525        0.015551       0.007896   \n",
              "2   WeightedEnsemble_L2   -2.367499  -2.431649        0.097176       0.053023   \n",
              "3         LightGBMLarge   -2.398198  -2.585025        0.016398       0.007521   \n",
              "4              CatBoost   -2.459172  -2.553730        0.018586       0.010586   \n",
              "5              LightGBM   -2.502165  -2.514691        0.012258       0.008236   \n",
              "6       RandomForestMSE   -2.547026  -2.845179        0.127817       0.107966   \n",
              "7        KNeighborsUnif   -2.772323  -2.962835        0.105698       0.106648   \n",
              "8        KNeighborsDist   -2.790269  -3.012490        0.109999       0.103642   \n",
              "9        NeuralNetTorch   -2.818053  -2.591611        0.024058       0.017387   \n",
              "10              XGBoost   -2.901050  -2.792102        0.010558       0.009095   \n",
              "11      NeuralNetFastAI   -2.905620  -2.595657        0.035105       0.019543   \n",
              "\n",
              "    fit_time  pred_time_test_marginal  pred_time_val_marginal  \\\n",
              "0   0.855879                 0.130114                0.109629   \n",
              "1   0.388524                 0.015551                0.007896   \n",
              "2   4.197968                 0.006064                0.000676   \n",
              "3   0.439369                 0.016398                0.007521   \n",
              "4   1.656746                 0.018586                0.010586   \n",
              "5   0.410748                 0.012258                0.008236   \n",
              "6   0.955668                 0.127817                0.107966   \n",
              "7   0.021348                 0.105698                0.106648   \n",
              "8   0.016310                 0.109999                0.103642   \n",
              "9   1.063595                 0.024058                0.017387   \n",
              "10  0.478009                 0.010558                0.009095   \n",
              "11  1.932553                 0.035105                0.019543   \n",
              "\n",
              "    fit_time_marginal  stack_level  can_infer  fit_order  \n",
              "0            0.855879            1       True          7  \n",
              "1            0.388524            1       True          3  \n",
              "2            0.373928            2       True         12  \n",
              "3            0.439369            1       True         11  \n",
              "4            1.656746            1       True          6  \n",
              "5            0.410748            1       True          4  \n",
              "6            0.955668            1       True          5  \n",
              "7            0.021348            1       True          1  \n",
              "8            0.016310            1       True          2  \n",
              "9            1.063595            1       True         10  \n",
              "10           0.478009            1       True          9  \n",
              "11           1.932553            1       True          8  "
            ],
            "text/html": [
              "\n",
              "  <div id=\"df-afdc776b-5a93-4f84-b656-ba310c007fe9\">\n",
              "    <div class=\"colab-df-container\">\n",
              "      <div>\n",
              "<style scoped>\n",
              "    .dataframe tbody tr th:only-of-type {\n",
              "        vertical-align: middle;\n",
              "    }\n",
              "\n",
              "    .dataframe tbody tr th {\n",
              "        vertical-align: top;\n",
              "    }\n",
              "\n",
              "    .dataframe thead th {\n",
              "        text-align: right;\n",
              "    }\n",
              "</style>\n",
              "<table border=\"1\" class=\"dataframe\">\n",
              "  <thead>\n",
              "    <tr style=\"text-align: right;\">\n",
              "      <th></th>\n",
              "      <th>model</th>\n",
              "      <th>score_test</th>\n",
              "      <th>score_val</th>\n",
              "      <th>pred_time_test</th>\n",
              "      <th>pred_time_val</th>\n",
              "      <th>fit_time</th>\n",
              "      <th>pred_time_test_marginal</th>\n",
              "      <th>pred_time_val_marginal</th>\n",
              "      <th>fit_time_marginal</th>\n",
              "      <th>stack_level</th>\n",
              "      <th>can_infer</th>\n",
              "      <th>fit_order</th>\n",
              "    </tr>\n",
              "  </thead>\n",
              "  <tbody>\n",
              "    <tr>\n",
              "      <th>0</th>\n",
              "      <td>ExtraTreesMSE</td>\n",
              "      <td>-2.305923</td>\n",
              "      <td>-2.688806</td>\n",
              "      <td>0.130114</td>\n",
              "      <td>0.109629</td>\n",
              "      <td>0.855879</td>\n",
              "      <td>0.130114</td>\n",
              "      <td>0.109629</td>\n",
              "      <td>0.855879</td>\n",
              "      <td>1</td>\n",
              "      <td>True</td>\n",
              "      <td>7</td>\n",
              "    </tr>\n",
              "    <tr>\n",
              "      <th>1</th>\n",
              "      <td>LightGBMXT</td>\n",
              "      <td>-2.362808</td>\n",
              "      <td>-2.491525</td>\n",
              "      <td>0.015551</td>\n",
              "      <td>0.007896</td>\n",
              "      <td>0.388524</td>\n",
              "      <td>0.015551</td>\n",
              "      <td>0.007896</td>\n",
              "      <td>0.388524</td>\n",
              "      <td>1</td>\n",
              "      <td>True</td>\n",
              "      <td>3</td>\n",
              "    </tr>\n",
              "    <tr>\n",
              "      <th>2</th>\n",
              "      <td>WeightedEnsemble_L2</td>\n",
              "      <td>-2.367499</td>\n",
              "      <td>-2.431649</td>\n",
              "      <td>0.097176</td>\n",
              "      <td>0.053023</td>\n",
              "      <td>4.197968</td>\n",
              "      <td>0.006064</td>\n",
              "      <td>0.000676</td>\n",
              "      <td>0.373928</td>\n",
              "      <td>2</td>\n",
              "      <td>True</td>\n",
              "      <td>12</td>\n",
              "    </tr>\n",
              "    <tr>\n",
              "      <th>3</th>\n",
              "      <td>LightGBMLarge</td>\n",
              "      <td>-2.398198</td>\n",
              "      <td>-2.585025</td>\n",
              "      <td>0.016398</td>\n",
              "      <td>0.007521</td>\n",
              "      <td>0.439369</td>\n",
              "      <td>0.016398</td>\n",
              "      <td>0.007521</td>\n",
              "      <td>0.439369</td>\n",
              "      <td>1</td>\n",
              "      <td>True</td>\n",
              "      <td>11</td>\n",
              "    </tr>\n",
              "    <tr>\n",
              "      <th>4</th>\n",
              "      <td>CatBoost</td>\n",
              "      <td>-2.459172</td>\n",
              "      <td>-2.553730</td>\n",
              "      <td>0.018586</td>\n",
              "      <td>0.010586</td>\n",
              "      <td>1.656746</td>\n",
              "      <td>0.018586</td>\n",
              "      <td>0.010586</td>\n",
              "      <td>1.656746</td>\n",
              "      <td>1</td>\n",
              "      <td>True</td>\n",
              "      <td>6</td>\n",
              "    </tr>\n",
              "    <tr>\n",
              "      <th>5</th>\n",
              "      <td>LightGBM</td>\n",
              "      <td>-2.502165</td>\n",
              "      <td>-2.514691</td>\n",
              "      <td>0.012258</td>\n",
              "      <td>0.008236</td>\n",
              "      <td>0.410748</td>\n",
              "      <td>0.012258</td>\n",
              "      <td>0.008236</td>\n",
              "      <td>0.410748</td>\n",
              "      <td>1</td>\n",
              "      <td>True</td>\n",
              "      <td>4</td>\n",
              "    </tr>\n",
              "    <tr>\n",
              "      <th>6</th>\n",
              "      <td>RandomForestMSE</td>\n",
              "      <td>-2.547026</td>\n",
              "      <td>-2.845179</td>\n",
              "      <td>0.127817</td>\n",
              "      <td>0.107966</td>\n",
              "      <td>0.955668</td>\n",
              "      <td>0.127817</td>\n",
              "      <td>0.107966</td>\n",
              "      <td>0.955668</td>\n",
              "      <td>1</td>\n",
              "      <td>True</td>\n",
              "      <td>5</td>\n",
              "    </tr>\n",
              "    <tr>\n",
              "      <th>7</th>\n",
              "      <td>KNeighborsUnif</td>\n",
              "      <td>-2.772323</td>\n",
              "      <td>-2.962835</td>\n",
              "      <td>0.105698</td>\n",
              "      <td>0.106648</td>\n",
              "      <td>0.021348</td>\n",
              "      <td>0.105698</td>\n",
              "      <td>0.106648</td>\n",
              "      <td>0.021348</td>\n",
              "      <td>1</td>\n",
              "      <td>True</td>\n",
              "      <td>1</td>\n",
              "    </tr>\n",
              "    <tr>\n",
              "      <th>8</th>\n",
              "      <td>KNeighborsDist</td>\n",
              "      <td>-2.790269</td>\n",
              "      <td>-3.012490</td>\n",
              "      <td>0.109999</td>\n",
              "      <td>0.103642</td>\n",
              "      <td>0.016310</td>\n",
              "      <td>0.109999</td>\n",
              "      <td>0.103642</td>\n",
              "      <td>0.016310</td>\n",
              "      <td>1</td>\n",
              "      <td>True</td>\n",
              "      <td>2</td>\n",
              "    </tr>\n",
              "    <tr>\n",
              "      <th>9</th>\n",
              "      <td>NeuralNetTorch</td>\n",
              "      <td>-2.818053</td>\n",
              "      <td>-2.591611</td>\n",
              "      <td>0.024058</td>\n",
              "      <td>0.017387</td>\n",
              "      <td>1.063595</td>\n",
              "      <td>0.024058</td>\n",
              "      <td>0.017387</td>\n",
              "      <td>1.063595</td>\n",
              "      <td>1</td>\n",
              "      <td>True</td>\n",
              "      <td>10</td>\n",
              "    </tr>\n",
              "    <tr>\n",
              "      <th>10</th>\n",
              "      <td>XGBoost</td>\n",
              "      <td>-2.901050</td>\n",
              "      <td>-2.792102</td>\n",
              "      <td>0.010558</td>\n",
              "      <td>0.009095</td>\n",
              "      <td>0.478009</td>\n",
              "      <td>0.010558</td>\n",
              "      <td>0.009095</td>\n",
              "      <td>0.478009</td>\n",
              "      <td>1</td>\n",
              "      <td>True</td>\n",
              "      <td>9</td>\n",
              "    </tr>\n",
              "    <tr>\n",
              "      <th>11</th>\n",
              "      <td>NeuralNetFastAI</td>\n",
              "      <td>-2.905620</td>\n",
              "      <td>-2.595657</td>\n",
              "      <td>0.035105</td>\n",
              "      <td>0.019543</td>\n",
              "      <td>1.932553</td>\n",
              "      <td>0.035105</td>\n",
              "      <td>0.019543</td>\n",
              "      <td>1.932553</td>\n",
              "      <td>1</td>\n",
              "      <td>True</td>\n",
              "      <td>8</td>\n",
              "    </tr>\n",
              "  </tbody>\n",
              "</table>\n",
              "</div>\n",
              "      <button class=\"colab-df-convert\" onclick=\"convertToInteractive('df-afdc776b-5a93-4f84-b656-ba310c007fe9')\"\n",
              "              title=\"Convert this dataframe to an interactive table.\"\n",
              "              style=\"display:none;\">\n",
              "        \n",
              "  <svg xmlns=\"http://www.w3.org/2000/svg\" height=\"24px\"viewBox=\"0 0 24 24\"\n",
              "       width=\"24px\">\n",
              "    <path d=\"M0 0h24v24H0V0z\" fill=\"none\"/>\n",
              "    <path d=\"M18.56 5.44l.94 2.06.94-2.06 2.06-.94-2.06-.94-.94-2.06-.94 2.06-2.06.94zm-11 1L8.5 8.5l.94-2.06 2.06-.94-2.06-.94L8.5 2.5l-.94 2.06-2.06.94zm10 10l.94 2.06.94-2.06 2.06-.94-2.06-.94-.94-2.06-.94 2.06-2.06.94z\"/><path d=\"M17.41 7.96l-1.37-1.37c-.4-.4-.92-.59-1.43-.59-.52 0-1.04.2-1.43.59L10.3 9.45l-7.72 7.72c-.78.78-.78 2.05 0 2.83L4 21.41c.39.39.9.59 1.41.59.51 0 1.02-.2 1.41-.59l7.78-7.78 2.81-2.81c.8-.78.8-2.07 0-2.86zM5.41 20L4 18.59l7.72-7.72 1.47 1.35L5.41 20z\"/>\n",
              "  </svg>\n",
              "      </button>\n",
              "      \n",
              "  <style>\n",
              "    .colab-df-container {\n",
              "      display:flex;\n",
              "      flex-wrap:wrap;\n",
              "      gap: 12px;\n",
              "    }\n",
              "\n",
              "    .colab-df-convert {\n",
              "      background-color: #E8F0FE;\n",
              "      border: none;\n",
              "      border-radius: 50%;\n",
              "      cursor: pointer;\n",
              "      display: none;\n",
              "      fill: #1967D2;\n",
              "      height: 32px;\n",
              "      padding: 0 0 0 0;\n",
              "      width: 32px;\n",
              "    }\n",
              "\n",
              "    .colab-df-convert:hover {\n",
              "      background-color: #E2EBFA;\n",
              "      box-shadow: 0px 1px 2px rgba(60, 64, 67, 0.3), 0px 1px 3px 1px rgba(60, 64, 67, 0.15);\n",
              "      fill: #174EA6;\n",
              "    }\n",
              "\n",
              "    [theme=dark] .colab-df-convert {\n",
              "      background-color: #3B4455;\n",
              "      fill: #D2E3FC;\n",
              "    }\n",
              "\n",
              "    [theme=dark] .colab-df-convert:hover {\n",
              "      background-color: #434B5C;\n",
              "      box-shadow: 0px 1px 3px 1px rgba(0, 0, 0, 0.15);\n",
              "      filter: drop-shadow(0px 1px 2px rgba(0, 0, 0, 0.3));\n",
              "      fill: #FFFFFF;\n",
              "    }\n",
              "  </style>\n",
              "\n",
              "      <script>\n",
              "        const buttonEl =\n",
              "          document.querySelector('#df-afdc776b-5a93-4f84-b656-ba310c007fe9 button.colab-df-convert');\n",
              "        buttonEl.style.display =\n",
              "          google.colab.kernel.accessAllowed ? 'block' : 'none';\n",
              "\n",
              "        async function convertToInteractive(key) {\n",
              "          const element = document.querySelector('#df-afdc776b-5a93-4f84-b656-ba310c007fe9');\n",
              "          const dataTable =\n",
              "            await google.colab.kernel.invokeFunction('convertToInteractive',\n",
              "                                                     [key], {});\n",
              "          if (!dataTable) return;\n",
              "\n",
              "          const docLinkHtml = 'Like what you see? Visit the ' +\n",
              "            '<a target=\"_blank\" href=https://colab.research.google.com/notebooks/data_table.ipynb>data table notebook</a>'\n",
              "            + ' to learn more about interactive tables.';\n",
              "          element.innerHTML = '';\n",
              "          dataTable['output_type'] = 'display_data';\n",
              "          await google.colab.output.renderOutput(dataTable, element);\n",
              "          const docLink = document.createElement('div');\n",
              "          docLink.innerHTML = docLinkHtml;\n",
              "          element.appendChild(docLink);\n",
              "        }\n",
              "      </script>\n",
              "    </div>\n",
              "  </div>\n",
              "  "
            ]
          },
          "metadata": {},
          "execution_count": 127
        }
      ],
      "source": [
        "predictor.leaderboard(test_data, silent=True)"
      ]
    },
    {
      "cell_type": "markdown",
      "source": [
        "### Feature Importance\n"
      ],
      "metadata": {
        "id": "RSY6HQUcmu7f"
      }
    },
    {
      "cell_type": "code",
      "execution_count": 128,
      "metadata": {
        "id": "x2EPMheUfgbX",
        "colab": {
          "base_uri": "https://localhost:8080/",
          "height": 356
        },
        "outputId": "dfb29106-1265-4b5c-c4c0-6ffa26974f8c"
      },
      "outputs": [
        {
          "output_type": "stream",
          "name": "stderr",
          "text": [
            "Computing feature importance via permutation shuffling for 8 features using 296 rows with 5 shuffle sets...\n",
            "\t6.9s\t= Expected runtime (1.38s per shuffle set)\n",
            "\t2.82s\t= Actual runtime (Completed 5 of 5 shuffle sets)\n"
          ]
        },
        {
          "output_type": "execute_result",
          "data": {
            "text/plain": [
              "              importance    stddev       p_value  n  p99_high   p99_low\n",
              "DevType         0.935163  0.061822  2.278648e-06  5  1.062455  0.807870\n",
              "YearsCodePro    0.706090  0.035137  7.334764e-07  5  0.778438  0.633741\n",
              "YearsCode       0.250799  0.023927  9.822284e-06  5  0.300066  0.201532\n",
              "WorkPlace       0.111703  0.037104  1.268410e-03  5  0.188101  0.035306\n",
              "EdLevel         0.042661  0.015116  1.612006e-03  5  0.073785  0.011537\n",
              "WorkPosition    0.012124  0.005547  4.058637e-03  5  0.023545  0.000703\n",
              "OrgSize         0.007250  0.002525  1.513425e-03  5  0.012449  0.002050\n",
              "Employment      0.003914  0.002419  1.120010e-02  5  0.008894 -0.001067"
            ],
            "text/html": [
              "\n",
              "  <div id=\"df-4d0e2745-03bb-4c81-a978-d61e8979fd27\">\n",
              "    <div class=\"colab-df-container\">\n",
              "      <div>\n",
              "<style scoped>\n",
              "    .dataframe tbody tr th:only-of-type {\n",
              "        vertical-align: middle;\n",
              "    }\n",
              "\n",
              "    .dataframe tbody tr th {\n",
              "        vertical-align: top;\n",
              "    }\n",
              "\n",
              "    .dataframe thead th {\n",
              "        text-align: right;\n",
              "    }\n",
              "</style>\n",
              "<table border=\"1\" class=\"dataframe\">\n",
              "  <thead>\n",
              "    <tr style=\"text-align: right;\">\n",
              "      <th></th>\n",
              "      <th>importance</th>\n",
              "      <th>stddev</th>\n",
              "      <th>p_value</th>\n",
              "      <th>n</th>\n",
              "      <th>p99_high</th>\n",
              "      <th>p99_low</th>\n",
              "    </tr>\n",
              "  </thead>\n",
              "  <tbody>\n",
              "    <tr>\n",
              "      <th>DevType</th>\n",
              "      <td>0.935163</td>\n",
              "      <td>0.061822</td>\n",
              "      <td>2.278648e-06</td>\n",
              "      <td>5</td>\n",
              "      <td>1.062455</td>\n",
              "      <td>0.807870</td>\n",
              "    </tr>\n",
              "    <tr>\n",
              "      <th>YearsCodePro</th>\n",
              "      <td>0.706090</td>\n",
              "      <td>0.035137</td>\n",
              "      <td>7.334764e-07</td>\n",
              "      <td>5</td>\n",
              "      <td>0.778438</td>\n",
              "      <td>0.633741</td>\n",
              "    </tr>\n",
              "    <tr>\n",
              "      <th>YearsCode</th>\n",
              "      <td>0.250799</td>\n",
              "      <td>0.023927</td>\n",
              "      <td>9.822284e-06</td>\n",
              "      <td>5</td>\n",
              "      <td>0.300066</td>\n",
              "      <td>0.201532</td>\n",
              "    </tr>\n",
              "    <tr>\n",
              "      <th>WorkPlace</th>\n",
              "      <td>0.111703</td>\n",
              "      <td>0.037104</td>\n",
              "      <td>1.268410e-03</td>\n",
              "      <td>5</td>\n",
              "      <td>0.188101</td>\n",
              "      <td>0.035306</td>\n",
              "    </tr>\n",
              "    <tr>\n",
              "      <th>EdLevel</th>\n",
              "      <td>0.042661</td>\n",
              "      <td>0.015116</td>\n",
              "      <td>1.612006e-03</td>\n",
              "      <td>5</td>\n",
              "      <td>0.073785</td>\n",
              "      <td>0.011537</td>\n",
              "    </tr>\n",
              "    <tr>\n",
              "      <th>WorkPosition</th>\n",
              "      <td>0.012124</td>\n",
              "      <td>0.005547</td>\n",
              "      <td>4.058637e-03</td>\n",
              "      <td>5</td>\n",
              "      <td>0.023545</td>\n",
              "      <td>0.000703</td>\n",
              "    </tr>\n",
              "    <tr>\n",
              "      <th>OrgSize</th>\n",
              "      <td>0.007250</td>\n",
              "      <td>0.002525</td>\n",
              "      <td>1.513425e-03</td>\n",
              "      <td>5</td>\n",
              "      <td>0.012449</td>\n",
              "      <td>0.002050</td>\n",
              "    </tr>\n",
              "    <tr>\n",
              "      <th>Employment</th>\n",
              "      <td>0.003914</td>\n",
              "      <td>0.002419</td>\n",
              "      <td>1.120010e-02</td>\n",
              "      <td>5</td>\n",
              "      <td>0.008894</td>\n",
              "      <td>-0.001067</td>\n",
              "    </tr>\n",
              "  </tbody>\n",
              "</table>\n",
              "</div>\n",
              "      <button class=\"colab-df-convert\" onclick=\"convertToInteractive('df-4d0e2745-03bb-4c81-a978-d61e8979fd27')\"\n",
              "              title=\"Convert this dataframe to an interactive table.\"\n",
              "              style=\"display:none;\">\n",
              "        \n",
              "  <svg xmlns=\"http://www.w3.org/2000/svg\" height=\"24px\"viewBox=\"0 0 24 24\"\n",
              "       width=\"24px\">\n",
              "    <path d=\"M0 0h24v24H0V0z\" fill=\"none\"/>\n",
              "    <path d=\"M18.56 5.44l.94 2.06.94-2.06 2.06-.94-2.06-.94-.94-2.06-.94 2.06-2.06.94zm-11 1L8.5 8.5l.94-2.06 2.06-.94-2.06-.94L8.5 2.5l-.94 2.06-2.06.94zm10 10l.94 2.06.94-2.06 2.06-.94-2.06-.94-.94-2.06-.94 2.06-2.06.94z\"/><path d=\"M17.41 7.96l-1.37-1.37c-.4-.4-.92-.59-1.43-.59-.52 0-1.04.2-1.43.59L10.3 9.45l-7.72 7.72c-.78.78-.78 2.05 0 2.83L4 21.41c.39.39.9.59 1.41.59.51 0 1.02-.2 1.41-.59l7.78-7.78 2.81-2.81c.8-.78.8-2.07 0-2.86zM5.41 20L4 18.59l7.72-7.72 1.47 1.35L5.41 20z\"/>\n",
              "  </svg>\n",
              "      </button>\n",
              "      \n",
              "  <style>\n",
              "    .colab-df-container {\n",
              "      display:flex;\n",
              "      flex-wrap:wrap;\n",
              "      gap: 12px;\n",
              "    }\n",
              "\n",
              "    .colab-df-convert {\n",
              "      background-color: #E8F0FE;\n",
              "      border: none;\n",
              "      border-radius: 50%;\n",
              "      cursor: pointer;\n",
              "      display: none;\n",
              "      fill: #1967D2;\n",
              "      height: 32px;\n",
              "      padding: 0 0 0 0;\n",
              "      width: 32px;\n",
              "    }\n",
              "\n",
              "    .colab-df-convert:hover {\n",
              "      background-color: #E2EBFA;\n",
              "      box-shadow: 0px 1px 2px rgba(60, 64, 67, 0.3), 0px 1px 3px 1px rgba(60, 64, 67, 0.15);\n",
              "      fill: #174EA6;\n",
              "    }\n",
              "\n",
              "    [theme=dark] .colab-df-convert {\n",
              "      background-color: #3B4455;\n",
              "      fill: #D2E3FC;\n",
              "    }\n",
              "\n",
              "    [theme=dark] .colab-df-convert:hover {\n",
              "      background-color: #434B5C;\n",
              "      box-shadow: 0px 1px 3px 1px rgba(0, 0, 0, 0.15);\n",
              "      filter: drop-shadow(0px 1px 2px rgba(0, 0, 0, 0.3));\n",
              "      fill: #FFFFFF;\n",
              "    }\n",
              "  </style>\n",
              "\n",
              "      <script>\n",
              "        const buttonEl =\n",
              "          document.querySelector('#df-4d0e2745-03bb-4c81-a978-d61e8979fd27 button.colab-df-convert');\n",
              "        buttonEl.style.display =\n",
              "          google.colab.kernel.accessAllowed ? 'block' : 'none';\n",
              "\n",
              "        async function convertToInteractive(key) {\n",
              "          const element = document.querySelector('#df-4d0e2745-03bb-4c81-a978-d61e8979fd27');\n",
              "          const dataTable =\n",
              "            await google.colab.kernel.invokeFunction('convertToInteractive',\n",
              "                                                     [key], {});\n",
              "          if (!dataTable) return;\n",
              "\n",
              "          const docLinkHtml = 'Like what you see? Visit the ' +\n",
              "            '<a target=\"_blank\" href=https://colab.research.google.com/notebooks/data_table.ipynb>data table notebook</a>'\n",
              "            + ' to learn more about interactive tables.';\n",
              "          element.innerHTML = '';\n",
              "          dataTable['output_type'] = 'display_data';\n",
              "          await google.colab.output.renderOutput(dataTable, element);\n",
              "          const docLink = document.createElement('div');\n",
              "          docLink.innerHTML = docLinkHtml;\n",
              "          element.appendChild(docLink);\n",
              "        }\n",
              "      </script>\n",
              "    </div>\n",
              "  </div>\n",
              "  "
            ]
          },
          "metadata": {},
          "execution_count": 128
        }
      ],
      "source": [
        "feature_im = predictor.feature_importance(data=train_data)\n",
        "feature_im"
      ]
    },
    {
      "cell_type": "code",
      "source": [
        "feature_im = feature_im.sort_values(by=['importance'], ascending=True)\n",
        "plt.barh(feature_im.index, feature_im['importance'])\n",
        "plt.show()"
      ],
      "metadata": {
        "colab": {
          "base_uri": "https://localhost:8080/",
          "height": 265
        },
        "id": "LOoXfdYmJeUQ",
        "outputId": "2c8f159a-804e-4ea0-f96e-f9c42515dad4"
      },
      "execution_count": 129,
      "outputs": [
        {
          "output_type": "display_data",
          "data": {
            "text/plain": [
              "<Figure size 432x288 with 1 Axes>"
            ],
            "image/png": "[encoded data removed]"
          },
          "metadata": {
            "needs_background": "light"
          }
        }
      ]
    },
    {
      "cell_type": "markdown",
      "source": [
        "## Evaluate\n",
        "Evaluate again to make sure auto gluon doesn't make mistakes."
      ],
      "metadata": {
        "id": "ZBZme0fDtcGE"
      }
    },
    {
      "cell_type": "markdown",
      "source": [
        "### Metrics"
      ],
      "metadata": {
        "id": "EmaD8-7gx9IB"
      }
    },
    {
      "cell_type": "code",
      "source": [
        "import math\n",
        "from sklearn.metrics import mean_absolute_error, mean_absolute_percentage_error, r2_score, mean_absolute_percentage_error, mean_squared_error\n",
        "\n",
        "pred = predictor.predict(X_train)\n",
        "mse = mean_squared_error(y_train, pred)\n",
        "rmse = math.sqrt(mse)\n",
        "mae = mean_absolute_error(y_train, pred)\n",
        "mape = mean_absolute_percentage_error(y_train, pred)\n",
        "r2 = r2_score(y_train, pred)\n",
        "\n",
        "print('Train MSE : {:.2f}'.format(mse))\n",
        "print('Train RMSE : {:.2f}'.format(rmse))\n",
        "print('Train MAE : {:.2f}'.format(mae))\n",
        "print('Train MAPE : {:.2f}'.format(mape))\n",
        "print('Train R2 : {:.2f}'.format(r2))\n",
        "\n",
        "print('-----------------')\n",
        "\n",
        "pred = predictor.predict(X_test)\n",
        "mse = mean_squared_error(y_test, pred)\n",
        "rmse = math.sqrt(mse)\n",
        "mae = mean_absolute_error(y_test, pred)\n",
        "mape = mean_absolute_percentage_error(y_test, pred)\n",
        "r2 = r2_score(y_test, pred)\n",
        "\n",
        "print('Test MSE : {:.2f}'.format(mse))\n",
        "print('Test RMSE : {:.2f}'.format(rmse))\n",
        "print('Test MAE : {:.2f}'.format(mae))\n",
        "print('Test MAPE : {:.2f}'.format(mape))\n",
        "print('Test R2 : {:.2f}'.format(r2))"
      ],
      "metadata": {
        "colab": {
          "base_uri": "https://localhost:8080/"
        },
        "id": "qLlzcXy6em1U",
        "outputId": "0c66740d-a457-4022-9ff9-2c89c59a938e"
      },
      "execution_count": 130,
      "outputs": [
        {
          "output_type": "stream",
          "name": "stdout",
          "text": [
            "Train MSE : 3.95\n",
            "Train RMSE : 1.99\n",
            "Train MAE : 1.33\n",
            "Train MAPE : 0.40\n",
            "Train R2 : 0.61\n",
            "-----------------\n",
            "Test MSE : 5.61\n",
            "Test RMSE : 2.37\n",
            "Test MAE : 1.78\n",
            "Test MAPE : 0.45\n",
            "Test R2 : 0.51\n"
          ]
        }
      ]
    },
    {
      "cell_type": "markdown",
      "source": [
        "### Error Rate"
      ],
      "metadata": {
        "id": "G8wCdNNLyCYv"
      }
    },
    {
      "cell_type": "code",
      "source": [
        "err = []\n",
        "for i in range(len(pred)):\n",
        "  err.append(abs(pred.values[i] - y_test.values[i]))\n",
        "\n",
        "print('MAX ERR : {:.2f}'.format(max(err)*1e4))\n",
        "print('MIN ERR : {:.2f}'.format(min(err)*1e4))\n",
        "print('MEAN ERR : {:.2f}'.format(sum(err)*1e4/len(err)))"
      ],
      "metadata": {
        "colab": {
          "base_uri": "https://localhost:8080/"
        },
        "id": "UPcW7z6Peo6Z",
        "outputId": "a707bc0a-cf40-4802-f9ce-7a5375867e63"
      },
      "execution_count": 131,
      "outputs": [
        {
          "output_type": "stream",
          "name": "stdout",
          "text": [
            "MAX ERR : 64439.38\n",
            "MIN ERR : 11.21\n",
            "MEAN ERR : 17842.71\n"
          ]
        }
      ]
    },
    {
      "cell_type": "markdown",
      "source": [
        "## Okay, compared with baseline"
      ],
      "metadata": {
        "id": "HGrRtwQrOD-3"
      }
    },
    {
      "cell_type": "code",
      "source": [
        "# Load test set\n",
        "df_test = pd.read_csv('test-set.csv')\n",
        "df_test = df_test.drop(columns=['Unnamed: 0'])\n",
        "df_test = df_test.rename({'Salary':'_Salary'}, axis=1)\n",
        "\n",
        "df_test.index = df_test['index']\n",
        "df_test = df_test.drop(columns=['index'])\n",
        "\n",
        "df_test = df_test.dropna()"
      ],
      "metadata": {
        "id": "Jhvg_wJLZzhP"
      },
      "execution_count": 132,
      "outputs": []
    },
    {
      "cell_type": "code",
      "source": [
        "print(df_test.sort_values(by=['index']).index)\n",
        "df_test.sort_values(by=['index']).drop(columns=['LanguageHaveWorkedWith','Age','index.1']).head()"
      ],
      "metadata": {
        "colab": {
          "base_uri": "https://localhost:8080/",
          "height": 445
        },
        "id": "9EFj9wV3kn0d",
        "outputId": "071a934b-67c1-4257-8bac-e6c46a15d13e"
      },
      "execution_count": 133,
      "outputs": [
        {
          "output_type": "stream",
          "name": "stdout",
          "text": [
            "Int64Index([  5,  13,  15,  18,  19,  23,  27,  31,  32,  40,  47,  48,  59,\n",
            "             62,  65,  69,  70,  80,  89,  96,  97, 100, 101, 113, 138, 144,\n",
            "            148, 149, 156, 162, 163, 164, 167, 171, 180, 182, 197, 201, 206,\n",
            "            208, 222, 227, 232, 236, 245, 246, 249, 254, 259, 265, 269, 282,\n",
            "            283, 286, 293, 296, 302, 304, 311, 317, 320, 321, 323, 324, 325,\n",
            "            332, 333, 339, 345, 350, 353, 357],\n",
            "           dtype='int64', name='index')\n"
          ]
        },
        {
          "output_type": "execute_result",
          "data": {
            "text/plain": [
              "       WorkPlace  EdLevel  YearsCodePro  YearsCode  Employment WorkPosition  \\\n",
              "index                                                                         \n",
              "5              1        1           1.0        3.0           1         Data   \n",
              "13             1        1           4.2        4.2           1        Admin   \n",
              "15             1        1           2.9        2.9           1    Bussiness   \n",
              "18             1        1           0.0        2.0           1      Web dev   \n",
              "19             1        1           2.0        6.0           1        Admin   \n",
              "\n",
              "                                                                                                                         DevType  \\\n",
              "index                                                                                                                              \n",
              "5                                                                                  Data scientist or machine learning specialist   \n",
              "13                                                                                    Back-end developer, Database administrator   \n",
              "15                                                                                               Marketing or sales professional   \n",
              "18                                                                                                   Back-end developer, Student   \n",
              "19     Data scientist or machine learning specialist, Database administrator, Engineering manager, System administrator, Student   \n",
              "\n",
              "       OrgSize  _Salary  Baseline from DEPA  \n",
              "index                                        \n",
              "5            2      2.3               51100  \n",
              "13           2      2.5               42700  \n",
              "15           4      8.0               29600  \n",
              "18           2      3.5               41000  \n",
              "19           2      2.2               32500  "
            ],
            "text/html": [
              "\n",
              "  <div id=\"df-16ae9fc6-ca16-4a72-b624-12feb057cf3a\">\n",
              "    <div class=\"colab-df-container\">\n",
              "      <div>\n",
              "<style scoped>\n",
              "    .dataframe tbody tr th:only-of-type {\n",
              "        vertical-align: middle;\n",
              "    }\n",
              "\n",
              "    .dataframe tbody tr th {\n",
              "        vertical-align: top;\n",
              "    }\n",
              "\n",
              "    .dataframe thead th {\n",
              "        text-align: right;\n",
              "    }\n",
              "</style>\n",
              "<table border=\"1\" class=\"dataframe\">\n",
              "  <thead>\n",
              "    <tr style=\"text-align: right;\">\n",
              "      <th></th>\n",
              "      <th>WorkPlace</th>\n",
              "      <th>EdLevel</th>\n",
              "      <th>YearsCodePro</th>\n",
              "      <th>YearsCode</th>\n",
              "      <th>Employment</th>\n",
              "      <th>WorkPosition</th>\n",
              "      <th>DevType</th>\n",
              "      <th>OrgSize</th>\n",
              "      <th>_Salary</th>\n",
              "      <th>Baseline from DEPA</th>\n",
              "    </tr>\n",
              "    <tr>\n",
              "      <th>index</th>\n",
              "      <th></th>\n",
              "      <th></th>\n",
              "      <th></th>\n",
              "      <th></th>\n",
              "      <th></th>\n",
              "      <th></th>\n",
              "      <th></th>\n",
              "      <th></th>\n",
              "      <th></th>\n",
              "      <th></th>\n",
              "    </tr>\n",
              "  </thead>\n",
              "  <tbody>\n",
              "    <tr>\n",
              "      <th>5</th>\n",
              "      <td>1</td>\n",
              "      <td>1</td>\n",
              "      <td>1.0</td>\n",
              "      <td>3.0</td>\n",
              "      <td>1</td>\n",
              "      <td>Data</td>\n",
              "      <td>Data scientist or machine learning specialist</td>\n",
              "      <td>2</td>\n",
              "      <td>2.3</td>\n",
              "      <td>51100</td>\n",
              "    </tr>\n",
              "    <tr>\n",
              "      <th>13</th>\n",
              "      <td>1</td>\n",
              "      <td>1</td>\n",
              "      <td>4.2</td>\n",
              "      <td>4.2</td>\n",
              "      <td>1</td>\n",
              "      <td>Admin</td>\n",
              "      <td>Back-end developer, Database administrator</td>\n",
              "      <td>2</td>\n",
              "      <td>2.5</td>\n",
              "      <td>42700</td>\n",
              "    </tr>\n",
              "    <tr>\n",
              "      <th>15</th>\n",
              "      <td>1</td>\n",
              "      <td>1</td>\n",
              "      <td>2.9</td>\n",
              "      <td>2.9</td>\n",
              "      <td>1</td>\n",
              "      <td>Bussiness</td>\n",
              "      <td>Marketing or sales professional</td>\n",
              "      <td>4</td>\n",
              "      <td>8.0</td>\n",
              "      <td>29600</td>\n",
              "    </tr>\n",
              "    <tr>\n",
              "      <th>18</th>\n",
              "      <td>1</td>\n",
              "      <td>1</td>\n",
              "      <td>0.0</td>\n",
              "      <td>2.0</td>\n",
              "      <td>1</td>\n",
              "      <td>Web dev</td>\n",
              "      <td>Back-end developer, Student</td>\n",
              "      <td>2</td>\n",
              "      <td>3.5</td>\n",
              "      <td>41000</td>\n",
              "    </tr>\n",
              "    <tr>\n",
              "      <th>19</th>\n",
              "      <td>1</td>\n",
              "      <td>1</td>\n",
              "      <td>2.0</td>\n",
              "      <td>6.0</td>\n",
              "      <td>1</td>\n",
              "      <td>Admin</td>\n",
              "      <td>Data scientist or machine learning specialist, Database administrator, Engineering manager, System administrator, Student</td>\n",
              "      <td>2</td>\n",
              "      <td>2.2</td>\n",
              "      <td>32500</td>\n",
              "    </tr>\n",
              "  </tbody>\n",
              "</table>\n",
              "</div>\n",
              "      <button class=\"colab-df-convert\" onclick=\"convertToInteractive('df-16ae9fc6-ca16-4a72-b624-12feb057cf3a')\"\n",
              "              title=\"Convert this dataframe to an interactive table.\"\n",
              "              style=\"display:none;\">\n",
              "        \n",
              "  <svg xmlns=\"http://www.w3.org/2000/svg\" height=\"24px\"viewBox=\"0 0 24 24\"\n",
              "       width=\"24px\">\n",
              "    <path d=\"M0 0h24v24H0V0z\" fill=\"none\"/>\n",
              "    <path d=\"M18.56 5.44l.94 2.06.94-2.06 2.06-.94-2.06-.94-.94-2.06-.94 2.06-2.06.94zm-11 1L8.5 8.5l.94-2.06 2.06-.94-2.06-.94L8.5 2.5l-.94 2.06-2.06.94zm10 10l.94 2.06.94-2.06 2.06-.94-2.06-.94-.94-2.06-.94 2.06-2.06.94z\"/><path d=\"M17.41 7.96l-1.37-1.37c-.4-.4-.92-.59-1.43-.59-.52 0-1.04.2-1.43.59L10.3 9.45l-7.72 7.72c-.78.78-.78 2.05 0 2.83L4 21.41c.39.39.9.59 1.41.59.51 0 1.02-.2 1.41-.59l7.78-7.78 2.81-2.81c.8-.78.8-2.07 0-2.86zM5.41 20L4 18.59l7.72-7.72 1.47 1.35L5.41 20z\"/>\n",
              "  </svg>\n",
              "      </button>\n",
              "      \n",
              "  <style>\n",
              "    .colab-df-container {\n",
              "      display:flex;\n",
              "      flex-wrap:wrap;\n",
              "      gap: 12px;\n",
              "    }\n",
              "\n",
              "    .colab-df-convert {\n",
              "      background-color: #E8F0FE;\n",
              "      border: none;\n",
              "      border-radius: 50%;\n",
              "      cursor: pointer;\n",
              "      display: none;\n",
              "      fill: #1967D2;\n",
              "      height: 32px;\n",
              "      padding: 0 0 0 0;\n",
              "      width: 32px;\n",
              "    }\n",
              "\n",
              "    .colab-df-convert:hover {\n",
              "      background-color: #E2EBFA;\n",
              "      box-shadow: 0px 1px 2px rgba(60, 64, 67, 0.3), 0px 1px 3px 1px rgba(60, 64, 67, 0.15);\n",
              "      fill: #174EA6;\n",
              "    }\n",
              "\n",
              "    [theme=dark] .colab-df-convert {\n",
              "      background-color: #3B4455;\n",
              "      fill: #D2E3FC;\n",
              "    }\n",
              "\n",
              "    [theme=dark] .colab-df-convert:hover {\n",
              "      background-color: #434B5C;\n",
              "      box-shadow: 0px 1px 3px 1px rgba(0, 0, 0, 0.15);\n",
              "      filter: drop-shadow(0px 1px 2px rgba(0, 0, 0, 0.3));\n",
              "      fill: #FFFFFF;\n",
              "    }\n",
              "  </style>\n",
              "\n",
              "      <script>\n",
              "        const buttonEl =\n",
              "          document.querySelector('#df-16ae9fc6-ca16-4a72-b624-12feb057cf3a button.colab-df-convert');\n",
              "        buttonEl.style.display =\n",
              "          google.colab.kernel.accessAllowed ? 'block' : 'none';\n",
              "\n",
              "        async function convertToInteractive(key) {\n",
              "          const element = document.querySelector('#df-16ae9fc6-ca16-4a72-b624-12feb057cf3a');\n",
              "          const dataTable =\n",
              "            await google.colab.kernel.invokeFunction('convertToInteractive',\n",
              "                                                     [key], {});\n",
              "          if (!dataTable) return;\n",
              "\n",
              "          const docLinkHtml = 'Like what you see? Visit the ' +\n",
              "            '<a target=\"_blank\" href=https://colab.research.google.com/notebooks/data_table.ipynb>data table notebook</a>'\n",
              "            + ' to learn more about interactive tables.';\n",
              "          element.innerHTML = '';\n",
              "          dataTable['output_type'] = 'display_data';\n",
              "          await google.colab.output.renderOutput(dataTable, element);\n",
              "          const docLink = document.createElement('div');\n",
              "          docLink.innerHTML = docLinkHtml;\n",
              "          element.appendChild(docLink);\n",
              "        }\n",
              "      </script>\n",
              "    </div>\n",
              "  </div>\n",
              "  "
            ]
          },
          "metadata": {},
          "execution_count": 133
        }
      ]
    },
    {
      "cell_type": "code",
      "source": [
        "print(test_data.index)\n",
        "test_data.head()"
      ],
      "metadata": {
        "colab": {
          "base_uri": "https://localhost:8080/",
          "height": 335
        },
        "id": "OHkC49G-lFYG",
        "outputId": "a942497b-53ea-4855-f550-9a22edf5a17f"
      },
      "execution_count": 134,
      "outputs": [
        {
          "output_type": "stream",
          "name": "stdout",
          "text": [
            "Int64Index([  5,  13,  15,  18,  19,  23,  27,  31,  32,  40,  47,  48,  59,\n",
            "             62,  65,  69,  70,  80,  89,  96,  97, 100, 101, 113, 138, 144,\n",
            "            148, 149, 156, 162, 163, 164, 167, 171, 180, 182, 197, 201, 206,\n",
            "            208, 222, 227, 232, 236, 245, 246, 249, 254, 259, 265, 269, 282,\n",
            "            283, 286, 293, 296, 302, 304, 311, 317, 320, 321, 323, 324, 325,\n",
            "            332, 333, 339, 345, 350, 353, 357],\n",
            "           dtype='int64')\n"
          ]
        },
        {
          "output_type": "execute_result",
          "data": {
            "text/plain": [
              "   WorkPlace EdLevel  YearsCodePro  YearsCode Employment WorkPosition  \\\n",
              "5          1       1           1.0        3.0          1         Data   \n",
              "13         1       1           4.2        4.2          1        Admin   \n",
              "15         1       1           2.9        2.9          1    Bussiness   \n",
              "18         1       1           0.0        2.0          1      Web dev   \n",
              "19         1       1           2.0        6.0          1        Admin   \n",
              "\n",
              "                                                                                                                      DevType  \\\n",
              "5                                                                               Data scientist or machine learning specialist   \n",
              "13                                                                                 Back-end developer, Database administrator   \n",
              "15                                                                                            Marketing or sales professional   \n",
              "18                                                                                                Back-end developer, Student   \n",
              "19  Data scientist or machine learning specialist, Database administrator, Engineering manager, System administrator, Student   \n",
              "\n",
              "   OrgSize  _Salary  \n",
              "5        2      2.3  \n",
              "13       2      2.5  \n",
              "15       4      8.0  \n",
              "18       2      3.5  \n",
              "19       2      2.2  "
            ],
            "text/html": [
              "\n",
              "  <div id=\"df-c9b0d623-9959-458f-be03-122fc8bdbf5b\">\n",
              "    <div class=\"colab-df-container\">\n",
              "      <div>\n",
              "<style scoped>\n",
              "    .dataframe tbody tr th:only-of-type {\n",
              "        vertical-align: middle;\n",
              "    }\n",
              "\n",
              "    .dataframe tbody tr th {\n",
              "        vertical-align: top;\n",
              "    }\n",
              "\n",
              "    .dataframe thead th {\n",
              "        text-align: right;\n",
              "    }\n",
              "</style>\n",
              "<table border=\"1\" class=\"dataframe\">\n",
              "  <thead>\n",
              "    <tr style=\"text-align: right;\">\n",
              "      <th></th>\n",
              "      <th>WorkPlace</th>\n",
              "      <th>EdLevel</th>\n",
              "      <th>YearsCodePro</th>\n",
              "      <th>YearsCode</th>\n",
              "      <th>Employment</th>\n",
              "      <th>WorkPosition</th>\n",
              "      <th>DevType</th>\n",
              "      <th>OrgSize</th>\n",
              "      <th>_Salary</th>\n",
              "    </tr>\n",
              "  </thead>\n",
              "  <tbody>\n",
              "    <tr>\n",
              "      <th>5</th>\n",
              "      <td>1</td>\n",
              "      <td>1</td>\n",
              "      <td>1.0</td>\n",
              "      <td>3.0</td>\n",
              "      <td>1</td>\n",
              "      <td>Data</td>\n",
              "      <td>Data scientist or machine learning specialist</td>\n",
              "      <td>2</td>\n",
              "      <td>2.3</td>\n",
              "    </tr>\n",
              "    <tr>\n",
              "      <th>13</th>\n",
              "      <td>1</td>\n",
              "      <td>1</td>\n",
              "      <td>4.2</td>\n",
              "      <td>4.2</td>\n",
              "      <td>1</td>\n",
              "      <td>Admin</td>\n",
              "      <td>Back-end developer, Database administrator</td>\n",
              "      <td>2</td>\n",
              "      <td>2.5</td>\n",
              "    </tr>\n",
              "    <tr>\n",
              "      <th>15</th>\n",
              "      <td>1</td>\n",
              "      <td>1</td>\n",
              "      <td>2.9</td>\n",
              "      <td>2.9</td>\n",
              "      <td>1</td>\n",
              "      <td>Bussiness</td>\n",
              "      <td>Marketing or sales professional</td>\n",
              "      <td>4</td>\n",
              "      <td>8.0</td>\n",
              "    </tr>\n",
              "    <tr>\n",
              "      <th>18</th>\n",
              "      <td>1</td>\n",
              "      <td>1</td>\n",
              "      <td>0.0</td>\n",
              "      <td>2.0</td>\n",
              "      <td>1</td>\n",
              "      <td>Web dev</td>\n",
              "      <td>Back-end developer, Student</td>\n",
              "      <td>2</td>\n",
              "      <td>3.5</td>\n",
              "    </tr>\n",
              "    <tr>\n",
              "      <th>19</th>\n",
              "      <td>1</td>\n",
              "      <td>1</td>\n",
              "      <td>2.0</td>\n",
              "      <td>6.0</td>\n",
              "      <td>1</td>\n",
              "      <td>Admin</td>\n",
              "      <td>Data scientist or machine learning specialist, Database administrator, Engineering manager, System administrator, Student</td>\n",
              "      <td>2</td>\n",
              "      <td>2.2</td>\n",
              "    </tr>\n",
              "  </tbody>\n",
              "</table>\n",
              "</div>\n",
              "      <button class=\"colab-df-convert\" onclick=\"convertToInteractive('df-c9b0d623-9959-458f-be03-122fc8bdbf5b')\"\n",
              "              title=\"Convert this dataframe to an interactive table.\"\n",
              "              style=\"display:none;\">\n",
              "        \n",
              "  <svg xmlns=\"http://www.w3.org/2000/svg\" height=\"24px\"viewBox=\"0 0 24 24\"\n",
              "       width=\"24px\">\n",
              "    <path d=\"M0 0h24v24H0V0z\" fill=\"none\"/>\n",
              "    <path d=\"M18.56 5.44l.94 2.06.94-2.06 2.06-.94-2.06-.94-.94-2.06-.94 2.06-2.06.94zm-11 1L8.5 8.5l.94-2.06 2.06-.94-2.06-.94L8.5 2.5l-.94 2.06-2.06.94zm10 10l.94 2.06.94-2.06 2.06-.94-2.06-.94-.94-2.06-.94 2.06-2.06.94z\"/><path d=\"M17.41 7.96l-1.37-1.37c-.4-.4-.92-.59-1.43-.59-.52 0-1.04.2-1.43.59L10.3 9.45l-7.72 7.72c-.78.78-.78 2.05 0 2.83L4 21.41c.39.39.9.59 1.41.59.51 0 1.02-.2 1.41-.59l7.78-7.78 2.81-2.81c.8-.78.8-2.07 0-2.86zM5.41 20L4 18.59l7.72-7.72 1.47 1.35L5.41 20z\"/>\n",
              "  </svg>\n",
              "      </button>\n",
              "      \n",
              "  <style>\n",
              "    .colab-df-container {\n",
              "      display:flex;\n",
              "      flex-wrap:wrap;\n",
              "      gap: 12px;\n",
              "    }\n",
              "\n",
              "    .colab-df-convert {\n",
              "      background-color: #E8F0FE;\n",
              "      border: none;\n",
              "      border-radius: 50%;\n",
              "      cursor: pointer;\n",
              "      display: none;\n",
              "      fill: #1967D2;\n",
              "      height: 32px;\n",
              "      padding: 0 0 0 0;\n",
              "      width: 32px;\n",
              "    }\n",
              "\n",
              "    .colab-df-convert:hover {\n",
              "      background-color: #E2EBFA;\n",
              "      box-shadow: 0px 1px 2px rgba(60, 64, 67, 0.3), 0px 1px 3px 1px rgba(60, 64, 67, 0.15);\n",
              "      fill: #174EA6;\n",
              "    }\n",
              "\n",
              "    [theme=dark] .colab-df-convert {\n",
              "      background-color: #3B4455;\n",
              "      fill: #D2E3FC;\n",
              "    }\n",
              "\n",
              "    [theme=dark] .colab-df-convert:hover {\n",
              "      background-color: #434B5C;\n",
              "      box-shadow: 0px 1px 3px 1px rgba(0, 0, 0, 0.15);\n",
              "      filter: drop-shadow(0px 1px 2px rgba(0, 0, 0, 0.3));\n",
              "      fill: #FFFFFF;\n",
              "    }\n",
              "  </style>\n",
              "\n",
              "      <script>\n",
              "        const buttonEl =\n",
              "          document.querySelector('#df-c9b0d623-9959-458f-be03-122fc8bdbf5b button.colab-df-convert');\n",
              "        buttonEl.style.display =\n",
              "          google.colab.kernel.accessAllowed ? 'block' : 'none';\n",
              "\n",
              "        async function convertToInteractive(key) {\n",
              "          const element = document.querySelector('#df-c9b0d623-9959-458f-be03-122fc8bdbf5b');\n",
              "          const dataTable =\n",
              "            await google.colab.kernel.invokeFunction('convertToInteractive',\n",
              "                                                     [key], {});\n",
              "          if (!dataTable) return;\n",
              "\n",
              "          const docLinkHtml = 'Like what you see? Visit the ' +\n",
              "            '<a target=\"_blank\" href=https://colab.research.google.com/notebooks/data_table.ipynb>data table notebook</a>'\n",
              "            + ' to learn more about interactive tables.';\n",
              "          element.innerHTML = '';\n",
              "          dataTable['output_type'] = 'display_data';\n",
              "          await google.colab.output.renderOutput(dataTable, element);\n",
              "          const docLink = document.createElement('div');\n",
              "          docLink.innerHTML = docLinkHtml;\n",
              "          element.appendChild(docLink);\n",
              "        }\n",
              "      </script>\n",
              "    </div>\n",
              "  </div>\n",
              "  "
            ]
          },
          "metadata": {},
          "execution_count": 134
        }
      ]
    },
    {
      "cell_type": "code",
      "source": [
        "testcase = df_test.drop(columns=['Baseline from DEPA'])\n",
        "testcase.head()"
      ],
      "metadata": {
        "colab": {
          "base_uri": "https://localhost:8080/",
          "height": 368
        },
        "id": "UJ5wN-euulzV",
        "outputId": "47783402-f008-45fd-de48-79c512705830"
      },
      "execution_count": 135,
      "outputs": [
        {
          "output_type": "execute_result",
          "data": {
            "text/plain": [
              "       WorkPlace  EdLevel  YearsCodePro  YearsCode  Employment WorkPosition  \\\n",
              "index                                                                         \n",
              "197            1        1           5.0        5.0           0         Data   \n",
              "339            1        1           8.0        8.0           1      Web dev   \n",
              "304            1        1           1.0        4.0           1         Data   \n",
              "48             1        1           2.0       12.0           1      Web dev   \n",
              "302            1        1           1.0        7.0           1      Web dev   \n",
              "\n",
              "                                                                       DevType  \\\n",
              "index                                                                            \n",
              "197                 Data scientist or machine learning specialist, #Consultant   \n",
              "339                                  Front-end developer, Full-stack developer   \n",
              "304    Data scientist or machine learning specialist, Data or business analyst   \n",
              "48                                                           DevOps specialist   \n",
              "302                                  Front-end developer, Full-stack developer   \n",
              "\n",
              "                                                                                                 LanguageHaveWorkedWith  \\\n",
              "index                                                                                                                     \n",
              "197                                                                                      C, Java, JavaScript, Python, R   \n",
              "339                                                                           HTML/CSS, JavaScript, Node.js, TypeScript   \n",
              "304                                                                                          Python, SQL, PHP, Julia, R   \n",
              "48     C, Java, Go, HTML/CSS, JavaScript, Node.js, PowerShell, Python, SQL, PHP, Bash/Shell, Matlab, TypeScript, Groovy   \n",
              "302                                                                HTML/CSS, JavaScript, Node.js, SQL, TypeScript, Ruby   \n",
              "\n",
              "                   Age  OrgSize    _Salary  index.1  \n",
              "index                                                \n",
              "197    25-34 years old        4  14.166667      197  \n",
              "339    25-34 years old        1   9.500000      339  \n",
              "304    18-24 years old        3   3.300000      304  \n",
              "48     18-24 years old        4   7.000000       48  \n",
              "302    18-24 years old        1   3.700000      302  "
            ],
            "text/html": [
              "\n",
              "  <div id=\"df-1b280cf4-e7f0-4f1d-ba75-83be95fb3e7d\">\n",
              "    <div class=\"colab-df-container\">\n",
              "      <div>\n",
              "<style scoped>\n",
              "    .dataframe tbody tr th:only-of-type {\n",
              "        vertical-align: middle;\n",
              "    }\n",
              "\n",
              "    .dataframe tbody tr th {\n",
              "        vertical-align: top;\n",
              "    }\n",
              "\n",
              "    .dataframe thead th {\n",
              "        text-align: right;\n",
              "    }\n",
              "</style>\n",
              "<table border=\"1\" class=\"dataframe\">\n",
              "  <thead>\n",
              "    <tr style=\"text-align: right;\">\n",
              "      <th></th>\n",
              "      <th>WorkPlace</th>\n",
              "      <th>EdLevel</th>\n",
              "      <th>YearsCodePro</th>\n",
              "      <th>YearsCode</th>\n",
              "      <th>Employment</th>\n",
              "      <th>WorkPosition</th>\n",
              "      <th>DevType</th>\n",
              "      <th>LanguageHaveWorkedWith</th>\n",
              "      <th>Age</th>\n",
              "      <th>OrgSize</th>\n",
              "      <th>_Salary</th>\n",
              "      <th>index.1</th>\n",
              "    </tr>\n",
              "    <tr>\n",
              "      <th>index</th>\n",
              "      <th></th>\n",
              "      <th></th>\n",
              "      <th></th>\n",
              "      <th></th>\n",
              "      <th></th>\n",
              "      <th></th>\n",
              "      <th></th>\n",
              "      <th></th>\n",
              "      <th></th>\n",
              "      <th></th>\n",
              "      <th></th>\n",
              "      <th></th>\n",
              "    </tr>\n",
              "  </thead>\n",
              "  <tbody>\n",
              "    <tr>\n",
              "      <th>197</th>\n",
              "      <td>1</td>\n",
              "      <td>1</td>\n",
              "      <td>5.0</td>\n",
              "      <td>5.0</td>\n",
              "      <td>0</td>\n",
              "      <td>Data</td>\n",
              "      <td>Data scientist or machine learning specialist, #Consultant</td>\n",
              "      <td>C, Java, JavaScript, Python, R</td>\n",
              "      <td>25-34 years old</td>\n",
              "      <td>4</td>\n",
              "      <td>14.166667</td>\n",
              "      <td>197</td>\n",
              "    </tr>\n",
              "    <tr>\n",
              "      <th>339</th>\n",
              "      <td>1</td>\n",
              "      <td>1</td>\n",
              "      <td>8.0</td>\n",
              "      <td>8.0</td>\n",
              "      <td>1</td>\n",
              "      <td>Web dev</td>\n",
              "      <td>Front-end developer, Full-stack developer</td>\n",
              "      <td>HTML/CSS, JavaScript, Node.js, TypeScript</td>\n",
              "      <td>25-34 years old</td>\n",
              "      <td>1</td>\n",
              "      <td>9.500000</td>\n",
              "      <td>339</td>\n",
              "    </tr>\n",
              "    <tr>\n",
              "      <th>304</th>\n",
              "      <td>1</td>\n",
              "      <td>1</td>\n",
              "      <td>1.0</td>\n",
              "      <td>4.0</td>\n",
              "      <td>1</td>\n",
              "      <td>Data</td>\n",
              "      <td>Data scientist or machine learning specialist, Data or business analyst</td>\n",
              "      <td>Python, SQL, PHP, Julia, R</td>\n",
              "      <td>18-24 years old</td>\n",
              "      <td>3</td>\n",
              "      <td>3.300000</td>\n",
              "      <td>304</td>\n",
              "    </tr>\n",
              "    <tr>\n",
              "      <th>48</th>\n",
              "      <td>1</td>\n",
              "      <td>1</td>\n",
              "      <td>2.0</td>\n",
              "      <td>12.0</td>\n",
              "      <td>1</td>\n",
              "      <td>Web dev</td>\n",
              "      <td>DevOps specialist</td>\n",
              "      <td>C, Java, Go, HTML/CSS, JavaScript, Node.js, PowerShell, Python, SQL, PHP, Bash/Shell, Matlab, TypeScript, Groovy</td>\n",
              "      <td>18-24 years old</td>\n",
              "      <td>4</td>\n",
              "      <td>7.000000</td>\n",
              "      <td>48</td>\n",
              "    </tr>\n",
              "    <tr>\n",
              "      <th>302</th>\n",
              "      <td>1</td>\n",
              "      <td>1</td>\n",
              "      <td>1.0</td>\n",
              "      <td>7.0</td>\n",
              "      <td>1</td>\n",
              "      <td>Web dev</td>\n",
              "      <td>Front-end developer, Full-stack developer</td>\n",
              "      <td>HTML/CSS, JavaScript, Node.js, SQL, TypeScript, Ruby</td>\n",
              "      <td>18-24 years old</td>\n",
              "      <td>1</td>\n",
              "      <td>3.700000</td>\n",
              "      <td>302</td>\n",
              "    </tr>\n",
              "  </tbody>\n",
              "</table>\n",
              "</div>\n",
              "      <button class=\"colab-df-convert\" onclick=\"convertToInteractive('df-1b280cf4-e7f0-4f1d-ba75-83be95fb3e7d')\"\n",
              "              title=\"Convert this dataframe to an interactive table.\"\n",
              "              style=\"display:none;\">\n",
              "        \n",
              "  <svg xmlns=\"http://www.w3.org/2000/svg\" height=\"24px\"viewBox=\"0 0 24 24\"\n",
              "       width=\"24px\">\n",
              "    <path d=\"M0 0h24v24H0V0z\" fill=\"none\"/>\n",
              "    <path d=\"M18.56 5.44l.94 2.06.94-2.06 2.06-.94-2.06-.94-.94-2.06-.94 2.06-2.06.94zm-11 1L8.5 8.5l.94-2.06 2.06-.94-2.06-.94L8.5 2.5l-.94 2.06-2.06.94zm10 10l.94 2.06.94-2.06 2.06-.94-2.06-.94-.94-2.06-.94 2.06-2.06.94z\"/><path d=\"M17.41 7.96l-1.37-1.37c-.4-.4-.92-.59-1.43-.59-.52 0-1.04.2-1.43.59L10.3 9.45l-7.72 7.72c-.78.78-.78 2.05 0 2.83L4 21.41c.39.39.9.59 1.41.59.51 0 1.02-.2 1.41-.59l7.78-7.78 2.81-2.81c.8-.78.8-2.07 0-2.86zM5.41 20L4 18.59l7.72-7.72 1.47 1.35L5.41 20z\"/>\n",
              "  </svg>\n",
              "      </button>\n",
              "      \n",
              "  <style>\n",
              "    .colab-df-container {\n",
              "      display:flex;\n",
              "      flex-wrap:wrap;\n",
              "      gap: 12px;\n",
              "    }\n",
              "\n",
              "    .colab-df-convert {\n",
              "      background-color: #E8F0FE;\n",
              "      border: none;\n",
              "      border-radius: 50%;\n",
              "      cursor: pointer;\n",
              "      display: none;\n",
              "      fill: #1967D2;\n",
              "      height: 32px;\n",
              "      padding: 0 0 0 0;\n",
              "      width: 32px;\n",
              "    }\n",
              "\n",
              "    .colab-df-convert:hover {\n",
              "      background-color: #E2EBFA;\n",
              "      box-shadow: 0px 1px 2px rgba(60, 64, 67, 0.3), 0px 1px 3px 1px rgba(60, 64, 67, 0.15);\n",
              "      fill: #174EA6;\n",
              "    }\n",
              "\n",
              "    [theme=dark] .colab-df-convert {\n",
              "      background-color: #3B4455;\n",
              "      fill: #D2E3FC;\n",
              "    }\n",
              "\n",
              "    [theme=dark] .colab-df-convert:hover {\n",
              "      background-color: #434B5C;\n",
              "      box-shadow: 0px 1px 3px 1px rgba(0, 0, 0, 0.15);\n",
              "      filter: drop-shadow(0px 1px 2px rgba(0, 0, 0, 0.3));\n",
              "      fill: #FFFFFF;\n",
              "    }\n",
              "  </style>\n",
              "\n",
              "      <script>\n",
              "        const buttonEl =\n",
              "          document.querySelector('#df-1b280cf4-e7f0-4f1d-ba75-83be95fb3e7d button.colab-df-convert');\n",
              "        buttonEl.style.display =\n",
              "          google.colab.kernel.accessAllowed ? 'block' : 'none';\n",
              "\n",
              "        async function convertToInteractive(key) {\n",
              "          const element = document.querySelector('#df-1b280cf4-e7f0-4f1d-ba75-83be95fb3e7d');\n",
              "          const dataTable =\n",
              "            await google.colab.kernel.invokeFunction('convertToInteractive',\n",
              "                                                     [key], {});\n",
              "          if (!dataTable) return;\n",
              "\n",
              "          const docLinkHtml = 'Like what you see? Visit the ' +\n",
              "            '<a target=\"_blank\" href=https://colab.research.google.com/notebooks/data_table.ipynb>data table notebook</a>'\n",
              "            + ' to learn more about interactive tables.';\n",
              "          element.innerHTML = '';\n",
              "          dataTable['output_type'] = 'display_data';\n",
              "          await google.colab.output.renderOutput(dataTable, element);\n",
              "          const docLink = document.createElement('div');\n",
              "          docLink.innerHTML = docLinkHtml;\n",
              "          element.appendChild(docLink);\n",
              "        }\n",
              "      </script>\n",
              "    </div>\n",
              "  </div>\n",
              "  "
            ]
          },
          "metadata": {},
          "execution_count": 135
        }
      ]
    },
    {
      "cell_type": "markdown",
      "source": [
        "### My Model"
      ],
      "metadata": {
        "id": "raHQf25TU6xM"
      }
    },
    {
      "cell_type": "code",
      "source": [
        "X_test.head()"
      ],
      "metadata": {
        "colab": {
          "base_uri": "https://localhost:8080/",
          "height": 206
        },
        "id": "ru_pocWgolfW",
        "outputId": "931e9e12-303a-43d2-b1c3-d7c521dc76ff"
      },
      "execution_count": 136,
      "outputs": [
        {
          "output_type": "execute_result",
          "data": {
            "text/plain": [
              "   WorkPlace EdLevel  YearsCodePro  YearsCode Employment WorkPosition  \\\n",
              "5          1       1           1.0        3.0          1         Data   \n",
              "13         1       1           4.2        4.2          1        Admin   \n",
              "15         1       1           2.9        2.9          1    Bussiness   \n",
              "18         1       1           0.0        2.0          1      Web dev   \n",
              "19         1       1           2.0        6.0          1        Admin   \n",
              "\n",
              "                                                                                                                      DevType  \\\n",
              "5                                                                               Data scientist or machine learning specialist   \n",
              "13                                                                                 Back-end developer, Database administrator   \n",
              "15                                                                                            Marketing or sales professional   \n",
              "18                                                                                                Back-end developer, Student   \n",
              "19  Data scientist or machine learning specialist, Database administrator, Engineering manager, System administrator, Student   \n",
              "\n",
              "   OrgSize  \n",
              "5        2  \n",
              "13       2  \n",
              "15       4  \n",
              "18       2  \n",
              "19       2  "
            ],
            "text/html": [
              "\n",
              "  <div id=\"df-e44806cd-878d-4669-bf18-3210b5a13d25\">\n",
              "    <div class=\"colab-df-container\">\n",
              "      <div>\n",
              "<style scoped>\n",
              "    .dataframe tbody tr th:only-of-type {\n",
              "        vertical-align: middle;\n",
              "    }\n",
              "\n",
              "    .dataframe tbody tr th {\n",
              "        vertical-align: top;\n",
              "    }\n",
              "\n",
              "    .dataframe thead th {\n",
              "        text-align: right;\n",
              "    }\n",
              "</style>\n",
              "<table border=\"1\" class=\"dataframe\">\n",
              "  <thead>\n",
              "    <tr style=\"text-align: right;\">\n",
              "      <th></th>\n",
              "      <th>WorkPlace</th>\n",
              "      <th>EdLevel</th>\n",
              "      <th>YearsCodePro</th>\n",
              "      <th>YearsCode</th>\n",
              "      <th>Employment</th>\n",
              "      <th>WorkPosition</th>\n",
              "      <th>DevType</th>\n",
              "      <th>OrgSize</th>\n",
              "    </tr>\n",
              "  </thead>\n",
              "  <tbody>\n",
              "    <tr>\n",
              "      <th>5</th>\n",
              "      <td>1</td>\n",
              "      <td>1</td>\n",
              "      <td>1.0</td>\n",
              "      <td>3.0</td>\n",
              "      <td>1</td>\n",
              "      <td>Data</td>\n",
              "      <td>Data scientist or machine learning specialist</td>\n",
              "      <td>2</td>\n",
              "    </tr>\n",
              "    <tr>\n",
              "      <th>13</th>\n",
              "      <td>1</td>\n",
              "      <td>1</td>\n",
              "      <td>4.2</td>\n",
              "      <td>4.2</td>\n",
              "      <td>1</td>\n",
              "      <td>Admin</td>\n",
              "      <td>Back-end developer, Database administrator</td>\n",
              "      <td>2</td>\n",
              "    </tr>\n",
              "    <tr>\n",
              "      <th>15</th>\n",
              "      <td>1</td>\n",
              "      <td>1</td>\n",
              "      <td>2.9</td>\n",
              "      <td>2.9</td>\n",
              "      <td>1</td>\n",
              "      <td>Bussiness</td>\n",
              "      <td>Marketing or sales professional</td>\n",
              "      <td>4</td>\n",
              "    </tr>\n",
              "    <tr>\n",
              "      <th>18</th>\n",
              "      <td>1</td>\n",
              "      <td>1</td>\n",
              "      <td>0.0</td>\n",
              "      <td>2.0</td>\n",
              "      <td>1</td>\n",
              "      <td>Web dev</td>\n",
              "      <td>Back-end developer, Student</td>\n",
              "      <td>2</td>\n",
              "    </tr>\n",
              "    <tr>\n",
              "      <th>19</th>\n",
              "      <td>1</td>\n",
              "      <td>1</td>\n",
              "      <td>2.0</td>\n",
              "      <td>6.0</td>\n",
              "      <td>1</td>\n",
              "      <td>Admin</td>\n",
              "      <td>Data scientist or machine learning specialist, Database administrator, Engineering manager, System administrator, Student</td>\n",
              "      <td>2</td>\n",
              "    </tr>\n",
              "  </tbody>\n",
              "</table>\n",
              "</div>\n",
              "      <button class=\"colab-df-convert\" onclick=\"convertToInteractive('df-e44806cd-878d-4669-bf18-3210b5a13d25')\"\n",
              "              title=\"Convert this dataframe to an interactive table.\"\n",
              "              style=\"display:none;\">\n",
              "        \n",
              "  <svg xmlns=\"http://www.w3.org/2000/svg\" height=\"24px\"viewBox=\"0 0 24 24\"\n",
              "       width=\"24px\">\n",
              "    <path d=\"M0 0h24v24H0V0z\" fill=\"none\"/>\n",
              "    <path d=\"M18.56 5.44l.94 2.06.94-2.06 2.06-.94-2.06-.94-.94-2.06-.94 2.06-2.06.94zm-11 1L8.5 8.5l.94-2.06 2.06-.94-2.06-.94L8.5 2.5l-.94 2.06-2.06.94zm10 10l.94 2.06.94-2.06 2.06-.94-2.06-.94-.94-2.06-.94 2.06-2.06.94z\"/><path d=\"M17.41 7.96l-1.37-1.37c-.4-.4-.92-.59-1.43-.59-.52 0-1.04.2-1.43.59L10.3 9.45l-7.72 7.72c-.78.78-.78 2.05 0 2.83L4 21.41c.39.39.9.59 1.41.59.51 0 1.02-.2 1.41-.59l7.78-7.78 2.81-2.81c.8-.78.8-2.07 0-2.86zM5.41 20L4 18.59l7.72-7.72 1.47 1.35L5.41 20z\"/>\n",
              "  </svg>\n",
              "      </button>\n",
              "      \n",
              "  <style>\n",
              "    .colab-df-container {\n",
              "      display:flex;\n",
              "      flex-wrap:wrap;\n",
              "      gap: 12px;\n",
              "    }\n",
              "\n",
              "    .colab-df-convert {\n",
              "      background-color: #E8F0FE;\n",
              "      border: none;\n",
              "      border-radius: 50%;\n",
              "      cursor: pointer;\n",
              "      display: none;\n",
              "      fill: #1967D2;\n",
              "      height: 32px;\n",
              "      padding: 0 0 0 0;\n",
              "      width: 32px;\n",
              "    }\n",
              "\n",
              "    .colab-df-convert:hover {\n",
              "      background-color: #E2EBFA;\n",
              "      box-shadow: 0px 1px 2px rgba(60, 64, 67, 0.3), 0px 1px 3px 1px rgba(60, 64, 67, 0.15);\n",
              "      fill: #174EA6;\n",
              "    }\n",
              "\n",
              "    [theme=dark] .colab-df-convert {\n",
              "      background-color: #3B4455;\n",
              "      fill: #D2E3FC;\n",
              "    }\n",
              "\n",
              "    [theme=dark] .colab-df-convert:hover {\n",
              "      background-color: #434B5C;\n",
              "      box-shadow: 0px 1px 3px 1px rgba(0, 0, 0, 0.15);\n",
              "      filter: drop-shadow(0px 1px 2px rgba(0, 0, 0, 0.3));\n",
              "      fill: #FFFFFF;\n",
              "    }\n",
              "  </style>\n",
              "\n",
              "      <script>\n",
              "        const buttonEl =\n",
              "          document.querySelector('#df-e44806cd-878d-4669-bf18-3210b5a13d25 button.colab-df-convert');\n",
              "        buttonEl.style.display =\n",
              "          google.colab.kernel.accessAllowed ? 'block' : 'none';\n",
              "\n",
              "        async function convertToInteractive(key) {\n",
              "          const element = document.querySelector('#df-e44806cd-878d-4669-bf18-3210b5a13d25');\n",
              "          const dataTable =\n",
              "            await google.colab.kernel.invokeFunction('convertToInteractive',\n",
              "                                                     [key], {});\n",
              "          if (!dataTable) return;\n",
              "\n",
              "          const docLinkHtml = 'Like what you see? Visit the ' +\n",
              "            '<a target=\"_blank\" href=https://colab.research.google.com/notebooks/data_table.ipynb>data table notebook</a>'\n",
              "            + ' to learn more about interactive tables.';\n",
              "          element.innerHTML = '';\n",
              "          dataTable['output_type'] = 'display_data';\n",
              "          await google.colab.output.renderOutput(dataTable, element);\n",
              "          const docLink = document.createElement('div');\n",
              "          docLink.innerHTML = docLinkHtml;\n",
              "          element.appendChild(docLink);\n",
              "        }\n",
              "      </script>\n",
              "    </div>\n",
              "  </div>\n",
              "  "
            ]
          },
          "metadata": {},
          "execution_count": 136
        }
      ]
    },
    {
      "cell_type": "code",
      "source": [
        "pred = predictor.predict(testcase.drop(columns=['_Salary',\n",
        "                                                'Age',\n",
        "                                                #'DevType',\n",
        "                                                'LanguageHaveWorkedWith'\n",
        "                                                ]))\n",
        "\n",
        "df_pred = pd.DataFrame(columns=['pred','real'])\n",
        "df_pred['pred'] = pred\n",
        "df_pred['real'] = testcase['_Salary'].values\n",
        "df_pred['err'] = abs(pred - df_pred['real'])*1e4\n",
        "df_pred.head()"
      ],
      "metadata": {
        "colab": {
          "base_uri": "https://localhost:8080/",
          "height": 237
        },
        "id": "5n9UVVn0epS2",
        "outputId": "f4ce707c-0397-4a93-9aca-eb223f9e333c"
      },
      "execution_count": 137,
      "outputs": [
        {
          "output_type": "execute_result",
          "data": {
            "text/plain": [
              "           pred       real           err\n",
              "index                                   \n",
              "197    7.722729  14.166667  64439.379408\n",
              "339    8.120066   9.500000  13799.343109\n",
              "304    3.510278   3.300000   2102.782249\n",
              "48     4.267260   7.000000  27327.404022\n",
              "302    5.499939   3.700000  17999.389648"
            ],
            "text/html": [
              "\n",
              "  <div id=\"df-8d37c4f8-5399-4dca-9342-7101ce08f11d\">\n",
              "    <div class=\"colab-df-container\">\n",
              "      <div>\n",
              "<style scoped>\n",
              "    .dataframe tbody tr th:only-of-type {\n",
              "        vertical-align: middle;\n",
              "    }\n",
              "\n",
              "    .dataframe tbody tr th {\n",
              "        vertical-align: top;\n",
              "    }\n",
              "\n",
              "    .dataframe thead th {\n",
              "        text-align: right;\n",
              "    }\n",
              "</style>\n",
              "<table border=\"1\" class=\"dataframe\">\n",
              "  <thead>\n",
              "    <tr style=\"text-align: right;\">\n",
              "      <th></th>\n",
              "      <th>pred</th>\n",
              "      <th>real</th>\n",
              "      <th>err</th>\n",
              "    </tr>\n",
              "    <tr>\n",
              "      <th>index</th>\n",
              "      <th></th>\n",
              "      <th></th>\n",
              "      <th></th>\n",
              "    </tr>\n",
              "  </thead>\n",
              "  <tbody>\n",
              "    <tr>\n",
              "      <th>197</th>\n",
              "      <td>7.722729</td>\n",
              "      <td>14.166667</td>\n",
              "      <td>64439.379408</td>\n",
              "    </tr>\n",
              "    <tr>\n",
              "      <th>339</th>\n",
              "      <td>8.120066</td>\n",
              "      <td>9.500000</td>\n",
              "      <td>13799.343109</td>\n",
              "    </tr>\n",
              "    <tr>\n",
              "      <th>304</th>\n",
              "      <td>3.510278</td>\n",
              "      <td>3.300000</td>\n",
              "      <td>2102.782249</td>\n",
              "    </tr>\n",
              "    <tr>\n",
              "      <th>48</th>\n",
              "      <td>4.267260</td>\n",
              "      <td>7.000000</td>\n",
              "      <td>27327.404022</td>\n",
              "    </tr>\n",
              "    <tr>\n",
              "      <th>302</th>\n",
              "      <td>5.499939</td>\n",
              "      <td>3.700000</td>\n",
              "      <td>17999.389648</td>\n",
              "    </tr>\n",
              "  </tbody>\n",
              "</table>\n",
              "</div>\n",
              "      <button class=\"colab-df-convert\" onclick=\"convertToInteractive('df-8d37c4f8-5399-4dca-9342-7101ce08f11d')\"\n",
              "              title=\"Convert this dataframe to an interactive table.\"\n",
              "              style=\"display:none;\">\n",
              "        \n",
              "  <svg xmlns=\"http://www.w3.org/2000/svg\" height=\"24px\"viewBox=\"0 0 24 24\"\n",
              "       width=\"24px\">\n",
              "    <path d=\"M0 0h24v24H0V0z\" fill=\"none\"/>\n",
              "    <path d=\"M18.56 5.44l.94 2.06.94-2.06 2.06-.94-2.06-.94-.94-2.06-.94 2.06-2.06.94zm-11 1L8.5 8.5l.94-2.06 2.06-.94-2.06-.94L8.5 2.5l-.94 2.06-2.06.94zm10 10l.94 2.06.94-2.06 2.06-.94-2.06-.94-.94-2.06-.94 2.06-2.06.94z\"/><path d=\"M17.41 7.96l-1.37-1.37c-.4-.4-.92-.59-1.43-.59-.52 0-1.04.2-1.43.59L10.3 9.45l-7.72 7.72c-.78.78-.78 2.05 0 2.83L4 21.41c.39.39.9.59 1.41.59.51 0 1.02-.2 1.41-.59l7.78-7.78 2.81-2.81c.8-.78.8-2.07 0-2.86zM5.41 20L4 18.59l7.72-7.72 1.47 1.35L5.41 20z\"/>\n",
              "  </svg>\n",
              "      </button>\n",
              "      \n",
              "  <style>\n",
              "    .colab-df-container {\n",
              "      display:flex;\n",
              "      flex-wrap:wrap;\n",
              "      gap: 12px;\n",
              "    }\n",
              "\n",
              "    .colab-df-convert {\n",
              "      background-color: #E8F0FE;\n",
              "      border: none;\n",
              "      border-radius: 50%;\n",
              "      cursor: pointer;\n",
              "      display: none;\n",
              "      fill: #1967D2;\n",
              "      height: 32px;\n",
              "      padding: 0 0 0 0;\n",
              "      width: 32px;\n",
              "    }\n",
              "\n",
              "    .colab-df-convert:hover {\n",
              "      background-color: #E2EBFA;\n",
              "      box-shadow: 0px 1px 2px rgba(60, 64, 67, 0.3), 0px 1px 3px 1px rgba(60, 64, 67, 0.15);\n",
              "      fill: #174EA6;\n",
              "    }\n",
              "\n",
              "    [theme=dark] .colab-df-convert {\n",
              "      background-color: #3B4455;\n",
              "      fill: #D2E3FC;\n",
              "    }\n",
              "\n",
              "    [theme=dark] .colab-df-convert:hover {\n",
              "      background-color: #434B5C;\n",
              "      box-shadow: 0px 1px 3px 1px rgba(0, 0, 0, 0.15);\n",
              "      filter: drop-shadow(0px 1px 2px rgba(0, 0, 0, 0.3));\n",
              "      fill: #FFFFFF;\n",
              "    }\n",
              "  </style>\n",
              "\n",
              "      <script>\n",
              "        const buttonEl =\n",
              "          document.querySelector('#df-8d37c4f8-5399-4dca-9342-7101ce08f11d button.colab-df-convert');\n",
              "        buttonEl.style.display =\n",
              "          google.colab.kernel.accessAllowed ? 'block' : 'none';\n",
              "\n",
              "        async function convertToInteractive(key) {\n",
              "          const element = document.querySelector('#df-8d37c4f8-5399-4dca-9342-7101ce08f11d');\n",
              "          const dataTable =\n",
              "            await google.colab.kernel.invokeFunction('convertToInteractive',\n",
              "                                                     [key], {});\n",
              "          if (!dataTable) return;\n",
              "\n",
              "          const docLinkHtml = 'Like what you see? Visit the ' +\n",
              "            '<a target=\"_blank\" href=https://colab.research.google.com/notebooks/data_table.ipynb>data table notebook</a>'\n",
              "            + ' to learn more about interactive tables.';\n",
              "          element.innerHTML = '';\n",
              "          dataTable['output_type'] = 'display_data';\n",
              "          await google.colab.output.renderOutput(dataTable, element);\n",
              "          const docLink = document.createElement('div');\n",
              "          docLink.innerHTML = docLinkHtml;\n",
              "          element.appendChild(docLink);\n",
              "        }\n",
              "      </script>\n",
              "    </div>\n",
              "  </div>\n",
              "  "
            ]
          },
          "metadata": {},
          "execution_count": 137
        }
      ]
    },
    {
      "cell_type": "markdown",
      "source": [
        "### Baseline Model"
      ],
      "metadata": {
        "id": "osxL8XWcU913"
      }
    },
    {
      "cell_type": "code",
      "source": [
        "baseline = df_test['Baseline from DEPA']\n",
        "\n",
        "df_base = pd.DataFrame(columns=['pred','real'])\n",
        "df_base['pred'] = baseline / 1e4\n",
        "df_base['real'] = testcase['_Salary'].values\n",
        "df_base['err'] = abs(df_base['pred'] - df_base['real'])*1e4\n",
        "df_base.head()"
      ],
      "metadata": {
        "colab": {
          "base_uri": "https://localhost:8080/",
          "height": 237
        },
        "id": "ODFhg-M35-uM",
        "outputId": "718c5ba2-da95-4c02-c020-87184549ef3c"
      },
      "execution_count": 138,
      "outputs": [
        {
          "output_type": "execute_result",
          "data": {
            "text/plain": [
              "        pred       real          err\n",
              "index                               \n",
              "197    2.275  14.166667  118916.6667\n",
              "339    4.800   9.500000   47000.0000\n",
              "304    2.400   3.300000    9000.0000\n",
              "48     4.500   7.000000   25000.0000\n",
              "302    4.200   3.700000    5000.0000"
            ],
            "text/html": [
              "\n",
              "  <div id=\"df-66d69caa-6992-487b-895c-b0c26359463c\">\n",
              "    <div class=\"colab-df-container\">\n",
              "      <div>\n",
              "<style scoped>\n",
              "    .dataframe tbody tr th:only-of-type {\n",
              "        vertical-align: middle;\n",
              "    }\n",
              "\n",
              "    .dataframe tbody tr th {\n",
              "        vertical-align: top;\n",
              "    }\n",
              "\n",
              "    .dataframe thead th {\n",
              "        text-align: right;\n",
              "    }\n",
              "</style>\n",
              "<table border=\"1\" class=\"dataframe\">\n",
              "  <thead>\n",
              "    <tr style=\"text-align: right;\">\n",
              "      <th></th>\n",
              "      <th>pred</th>\n",
              "      <th>real</th>\n",
              "      <th>err</th>\n",
              "    </tr>\n",
              "    <tr>\n",
              "      <th>index</th>\n",
              "      <th></th>\n",
              "      <th></th>\n",
              "      <th></th>\n",
              "    </tr>\n",
              "  </thead>\n",
              "  <tbody>\n",
              "    <tr>\n",
              "      <th>197</th>\n",
              "      <td>2.275</td>\n",
              "      <td>14.166667</td>\n",
              "      <td>118916.6667</td>\n",
              "    </tr>\n",
              "    <tr>\n",
              "      <th>339</th>\n",
              "      <td>4.800</td>\n",
              "      <td>9.500000</td>\n",
              "      <td>47000.0000</td>\n",
              "    </tr>\n",
              "    <tr>\n",
              "      <th>304</th>\n",
              "      <td>2.400</td>\n",
              "      <td>3.300000</td>\n",
              "      <td>9000.0000</td>\n",
              "    </tr>\n",
              "    <tr>\n",
              "      <th>48</th>\n",
              "      <td>4.500</td>\n",
              "      <td>7.000000</td>\n",
              "      <td>25000.0000</td>\n",
              "    </tr>\n",
              "    <tr>\n",
              "      <th>302</th>\n",
              "      <td>4.200</td>\n",
              "      <td>3.700000</td>\n",
              "      <td>5000.0000</td>\n",
              "    </tr>\n",
              "  </tbody>\n",
              "</table>\n",
              "</div>\n",
              "      <button class=\"colab-df-convert\" onclick=\"convertToInteractive('df-66d69caa-6992-487b-895c-b0c26359463c')\"\n",
              "              title=\"Convert this dataframe to an interactive table.\"\n",
              "              style=\"display:none;\">\n",
              "        \n",
              "  <svg xmlns=\"http://www.w3.org/2000/svg\" height=\"24px\"viewBox=\"0 0 24 24\"\n",
              "       width=\"24px\">\n",
              "    <path d=\"M0 0h24v24H0V0z\" fill=\"none\"/>\n",
              "    <path d=\"M18.56 5.44l.94 2.06.94-2.06 2.06-.94-2.06-.94-.94-2.06-.94 2.06-2.06.94zm-11 1L8.5 8.5l.94-2.06 2.06-.94-2.06-.94L8.5 2.5l-.94 2.06-2.06.94zm10 10l.94 2.06.94-2.06 2.06-.94-2.06-.94-.94-2.06-.94 2.06-2.06.94z\"/><path d=\"M17.41 7.96l-1.37-1.37c-.4-.4-.92-.59-1.43-.59-.52 0-1.04.2-1.43.59L10.3 9.45l-7.72 7.72c-.78.78-.78 2.05 0 2.83L4 21.41c.39.39.9.59 1.41.59.51 0 1.02-.2 1.41-.59l7.78-7.78 2.81-2.81c.8-.78.8-2.07 0-2.86zM5.41 20L4 18.59l7.72-7.72 1.47 1.35L5.41 20z\"/>\n",
              "  </svg>\n",
              "      </button>\n",
              "      \n",
              "  <style>\n",
              "    .colab-df-container {\n",
              "      display:flex;\n",
              "      flex-wrap:wrap;\n",
              "      gap: 12px;\n",
              "    }\n",
              "\n",
              "    .colab-df-convert {\n",
              "      background-color: #E8F0FE;\n",
              "      border: none;\n",
              "      border-radius: 50%;\n",
              "      cursor: pointer;\n",
              "      display: none;\n",
              "      fill: #1967D2;\n",
              "      height: 32px;\n",
              "      padding: 0 0 0 0;\n",
              "      width: 32px;\n",
              "    }\n",
              "\n",
              "    .colab-df-convert:hover {\n",
              "      background-color: #E2EBFA;\n",
              "      box-shadow: 0px 1px 2px rgba(60, 64, 67, 0.3), 0px 1px 3px 1px rgba(60, 64, 67, 0.15);\n",
              "      fill: #174EA6;\n",
              "    }\n",
              "\n",
              "    [theme=dark] .colab-df-convert {\n",
              "      background-color: #3B4455;\n",
              "      fill: #D2E3FC;\n",
              "    }\n",
              "\n",
              "    [theme=dark] .colab-df-convert:hover {\n",
              "      background-color: #434B5C;\n",
              "      box-shadow: 0px 1px 3px 1px rgba(0, 0, 0, 0.15);\n",
              "      filter: drop-shadow(0px 1px 2px rgba(0, 0, 0, 0.3));\n",
              "      fill: #FFFFFF;\n",
              "    }\n",
              "  </style>\n",
              "\n",
              "      <script>\n",
              "        const buttonEl =\n",
              "          document.querySelector('#df-66d69caa-6992-487b-895c-b0c26359463c button.colab-df-convert');\n",
              "        buttonEl.style.display =\n",
              "          google.colab.kernel.accessAllowed ? 'block' : 'none';\n",
              "\n",
              "        async function convertToInteractive(key) {\n",
              "          const element = document.querySelector('#df-66d69caa-6992-487b-895c-b0c26359463c');\n",
              "          const dataTable =\n",
              "            await google.colab.kernel.invokeFunction('convertToInteractive',\n",
              "                                                     [key], {});\n",
              "          if (!dataTable) return;\n",
              "\n",
              "          const docLinkHtml = 'Like what you see? Visit the ' +\n",
              "            '<a target=\"_blank\" href=https://colab.research.google.com/notebooks/data_table.ipynb>data table notebook</a>'\n",
              "            + ' to learn more about interactive tables.';\n",
              "          element.innerHTML = '';\n",
              "          dataTable['output_type'] = 'display_data';\n",
              "          await google.colab.output.renderOutput(dataTable, element);\n",
              "          const docLink = document.createElement('div');\n",
              "          docLink.innerHTML = docLinkHtml;\n",
              "          element.appendChild(docLink);\n",
              "        }\n",
              "      </script>\n",
              "    </div>\n",
              "  </div>\n",
              "  "
            ]
          },
          "metadata": {},
          "execution_count": 138
        }
      ]
    },
    {
      "cell_type": "markdown",
      "source": [
        "### Mean Rule-Based Model"
      ],
      "metadata": {
        "id": "tBiBccIHVPsq"
      }
    },
    {
      "cell_type": "code",
      "source": [
        "# Prof.Charin rule-based model\n",
        "meanie = train_data['_Salary'].mean()\n",
        "meanie_arr = np.full(len(testcase), meanie)\n",
        "\n",
        "df_meanie = pd.DataFrame(columns=['pred','real'])\n",
        "df_meanie['pred'] = meanie_arr\n",
        "df_meanie['real'] = testcase['_Salary'].values\n",
        "df_meanie['err'] = abs(df_meanie['pred'] - df_meanie['real'])*1e4\n",
        "df_meanie.index = df_pred.index\n",
        "df_meanie.head()"
      ],
      "metadata": {
        "colab": {
          "base_uri": "https://localhost:8080/",
          "height": 237
        },
        "id": "U2ocjoVFVOhk",
        "outputId": "f0059c9b-4ee9-4f4a-fee8-c3329dd640ed"
      },
      "execution_count": 139,
      "outputs": [
        {
          "output_type": "execute_result",
          "data": {
            "text/plain": [
              "           pred       real           err\n",
              "index                                   \n",
              "197    4.789949  14.166667  93767.175991\n",
              "339    4.789949   9.500000  47100.509291\n",
              "304    4.789949   3.300000  14899.490709\n",
              "48     4.789949   7.000000  22100.509291\n",
              "302    4.789949   3.700000  10899.490709"
            ],
            "text/html": [
              "\n",
              "  <div id=\"df-3d904718-c238-4d21-b1ad-2ad2a7beec31\">\n",
              "    <div class=\"colab-df-container\">\n",
              "      <div>\n",
              "<style scoped>\n",
              "    .dataframe tbody tr th:only-of-type {\n",
              "        vertical-align: middle;\n",
              "    }\n",
              "\n",
              "    .dataframe tbody tr th {\n",
              "        vertical-align: top;\n",
              "    }\n",
              "\n",
              "    .dataframe thead th {\n",
              "        text-align: right;\n",
              "    }\n",
              "</style>\n",
              "<table border=\"1\" class=\"dataframe\">\n",
              "  <thead>\n",
              "    <tr style=\"text-align: right;\">\n",
              "      <th></th>\n",
              "      <th>pred</th>\n",
              "      <th>real</th>\n",
              "      <th>err</th>\n",
              "    </tr>\n",
              "    <tr>\n",
              "      <th>index</th>\n",
              "      <th></th>\n",
              "      <th></th>\n",
              "      <th></th>\n",
              "    </tr>\n",
              "  </thead>\n",
              "  <tbody>\n",
              "    <tr>\n",
              "      <th>197</th>\n",
              "      <td>4.789949</td>\n",
              "      <td>14.166667</td>\n",
              "      <td>93767.175991</td>\n",
              "    </tr>\n",
              "    <tr>\n",
              "      <th>339</th>\n",
              "      <td>4.789949</td>\n",
              "      <td>9.500000</td>\n",
              "      <td>47100.509291</td>\n",
              "    </tr>\n",
              "    <tr>\n",
              "      <th>304</th>\n",
              "      <td>4.789949</td>\n",
              "      <td>3.300000</td>\n",
              "      <td>14899.490709</td>\n",
              "    </tr>\n",
              "    <tr>\n",
              "      <th>48</th>\n",
              "      <td>4.789949</td>\n",
              "      <td>7.000000</td>\n",
              "      <td>22100.509291</td>\n",
              "    </tr>\n",
              "    <tr>\n",
              "      <th>302</th>\n",
              "      <td>4.789949</td>\n",
              "      <td>3.700000</td>\n",
              "      <td>10899.490709</td>\n",
              "    </tr>\n",
              "  </tbody>\n",
              "</table>\n",
              "</div>\n",
              "      <button class=\"colab-df-convert\" onclick=\"convertToInteractive('df-3d904718-c238-4d21-b1ad-2ad2a7beec31')\"\n",
              "              title=\"Convert this dataframe to an interactive table.\"\n",
              "              style=\"display:none;\">\n",
              "        \n",
              "  <svg xmlns=\"http://www.w3.org/2000/svg\" height=\"24px\"viewBox=\"0 0 24 24\"\n",
              "       width=\"24px\">\n",
              "    <path d=\"M0 0h24v24H0V0z\" fill=\"none\"/>\n",
              "    <path d=\"M18.56 5.44l.94 2.06.94-2.06 2.06-.94-2.06-.94-.94-2.06-.94 2.06-2.06.94zm-11 1L8.5 8.5l.94-2.06 2.06-.94-2.06-.94L8.5 2.5l-.94 2.06-2.06.94zm10 10l.94 2.06.94-2.06 2.06-.94-2.06-.94-.94-2.06-.94 2.06-2.06.94z\"/><path d=\"M17.41 7.96l-1.37-1.37c-.4-.4-.92-.59-1.43-.59-.52 0-1.04.2-1.43.59L10.3 9.45l-7.72 7.72c-.78.78-.78 2.05 0 2.83L4 21.41c.39.39.9.59 1.41.59.51 0 1.02-.2 1.41-.59l7.78-7.78 2.81-2.81c.8-.78.8-2.07 0-2.86zM5.41 20L4 18.59l7.72-7.72 1.47 1.35L5.41 20z\"/>\n",
              "  </svg>\n",
              "      </button>\n",
              "      \n",
              "  <style>\n",
              "    .colab-df-container {\n",
              "      display:flex;\n",
              "      flex-wrap:wrap;\n",
              "      gap: 12px;\n",
              "    }\n",
              "\n",
              "    .colab-df-convert {\n",
              "      background-color: #E8F0FE;\n",
              "      border: none;\n",
              "      border-radius: 50%;\n",
              "      cursor: pointer;\n",
              "      display: none;\n",
              "      fill: #1967D2;\n",
              "      height: 32px;\n",
              "      padding: 0 0 0 0;\n",
              "      width: 32px;\n",
              "    }\n",
              "\n",
              "    .colab-df-convert:hover {\n",
              "      background-color: #E2EBFA;\n",
              "      box-shadow: 0px 1px 2px rgba(60, 64, 67, 0.3), 0px 1px 3px 1px rgba(60, 64, 67, 0.15);\n",
              "      fill: #174EA6;\n",
              "    }\n",
              "\n",
              "    [theme=dark] .colab-df-convert {\n",
              "      background-color: #3B4455;\n",
              "      fill: #D2E3FC;\n",
              "    }\n",
              "\n",
              "    [theme=dark] .colab-df-convert:hover {\n",
              "      background-color: #434B5C;\n",
              "      box-shadow: 0px 1px 3px 1px rgba(0, 0, 0, 0.15);\n",
              "      filter: drop-shadow(0px 1px 2px rgba(0, 0, 0, 0.3));\n",
              "      fill: #FFFFFF;\n",
              "    }\n",
              "  </style>\n",
              "\n",
              "      <script>\n",
              "        const buttonEl =\n",
              "          document.querySelector('#df-3d904718-c238-4d21-b1ad-2ad2a7beec31 button.colab-df-convert');\n",
              "        buttonEl.style.display =\n",
              "          google.colab.kernel.accessAllowed ? 'block' : 'none';\n",
              "\n",
              "        async function convertToInteractive(key) {\n",
              "          const element = document.querySelector('#df-3d904718-c238-4d21-b1ad-2ad2a7beec31');\n",
              "          const dataTable =\n",
              "            await google.colab.kernel.invokeFunction('convertToInteractive',\n",
              "                                                     [key], {});\n",
              "          if (!dataTable) return;\n",
              "\n",
              "          const docLinkHtml = 'Like what you see? Visit the ' +\n",
              "            '<a target=\"_blank\" href=https://colab.research.google.com/notebooks/data_table.ipynb>data table notebook</a>'\n",
              "            + ' to learn more about interactive tables.';\n",
              "          element.innerHTML = '';\n",
              "          dataTable['output_type'] = 'display_data';\n",
              "          await google.colab.output.renderOutput(dataTable, element);\n",
              "          const docLink = document.createElement('div');\n",
              "          docLink.innerHTML = docLinkHtml;\n",
              "          element.appendChild(docLink);\n",
              "        }\n",
              "      </script>\n",
              "    </div>\n",
              "  </div>\n",
              "  "
            ]
          },
          "metadata": {},
          "execution_count": 139
        }
      ]
    },
    {
      "cell_type": "markdown",
      "source": [
        "### Final Result"
      ],
      "metadata": {
        "id": "3UHQHygxjsDg"
      }
    },
    {
      "cell_type": "code",
      "source": [
        "from sklearn.metrics import mean_absolute_percentage_error, mean_squared_error\n",
        "import math\n",
        "\n",
        "names = np.array(['Our Model','Baseline','Mean Rule-based'])\n",
        "datas = np.array([df_pred['pred'], df_base['pred'], df_meanie['pred']])\n",
        "\n",
        "for i in range(len(names)):\n",
        "  mse = mean_squared_error(testcase['_Salary'], datas[i])\n",
        "  rmse = math.sqrt(mse)\n",
        "  mae = mean_absolute_error(testcase['_Salary'], datas[i])\n",
        "  mape = mean_absolute_percentage_error(testcase['_Salary'], datas[i])\n",
        "  r2 = r2_score(testcase['_Salary'], datas[i])\n",
        "\n",
        "  err = []\n",
        "  for j in range(len(datas[i])):\n",
        "    err.append(abs(datas[i][j] - testcase['_Salary'].values[j]))\n",
        "  \n",
        "  print('\\n/============= {} =============/'.format(names[i]))\n",
        "  print('MAX ERR : {:.2f}'.format(max(err)*1e4))\n",
        "  print('MIN ERR : {:.2f}'.format(min(err)*1e4))\n",
        "  print('MEAN ERR : {:.2f}'.format(sum(err)*1e4/len(err)))\n",
        "  print('--------------------')\n",
        "  print('MSE : {:.2f}'.format(mse*1e4))\n",
        "  print('RMSE : {:.2f}'.format(rmse*1e4))\n",
        "  print('MAE : {:.2f}'.format(mae*1e4))\n",
        "  print('MAPE : {:.2f}'.format(mape))\n",
        "  print('R2 : {:.2f}'.format(r2))"
      ],
      "metadata": {
        "colab": {
          "base_uri": "https://localhost:8080/"
        },
        "id": "3VSPNJvw6VUC",
        "outputId": "981911c1-682d-48c1-896f-a6ffd19f2d9a"
      },
      "execution_count": 140,
      "outputs": [
        {
          "output_type": "stream",
          "name": "stdout",
          "text": [
            "\n",
            "/============= Our Model =============/\n",
            "MAX ERR : 64439.38\n",
            "MIN ERR : 11.21\n",
            "MEAN ERR : 17795.00\n",
            "--------------------\n",
            "MSE : 55947.43\n",
            "RMSE : 23653.21\n",
            "MAE : 17795.00\n",
            "MAPE : 0.45\n",
            "R2 : 0.51\n",
            "\n",
            "/============= Baseline =============/\n",
            "MAX ERR : 118916.67\n",
            "MIN ERR : 200.00\n",
            "MEAN ERR : 22764.00\n",
            "--------------------\n",
            "MSE : 111116.17\n",
            "RMSE : 33334.09\n",
            "MAE : 22764.00\n",
            "MAPE : 0.47\n",
            "R2 : 0.02\n",
            "\n",
            "/============= Mean Rule-based =============/\n",
            "MAX ERR : 102100.51\n",
            "MIN ERR : 1566.16\n",
            "MEAN ERR : 25785.74\n",
            "--------------------\n",
            "MSE : 113659.66\n",
            "RMSE : 33713.45\n",
            "MAE : 25785.74\n",
            "MAPE : 0.71\n",
            "R2 : -0.00\n"
          ]
        }
      ]
    }
  ],
  "metadata": {
    "colab": {
      "collapsed_sections": [],
      "name": "Thai-IT-Job-Salary-Pred-Model.ipynb",
      "provenance": [],
      "toc_visible": true,
      "authorship_tag": "ABX9TyNpm5TIt9s+Zu1IAUbrS1j4",
      "include_colab_link": true
    },
    "kernelspec": {
      "display_name": "Python 3",
      "name": "python3"
    },
    "language_info": {
      "name": "python"
    }
  },
  "nbformat": 4,
  "nbformat_minor": 0
}